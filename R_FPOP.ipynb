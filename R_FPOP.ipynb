{
 "cells": [
  {
   "cell_type": "markdown",
   "metadata": {},
   "source": [
    "# Changepoint Detection in presence of outliers\n",
    "### Alexis Groshenry - Grégoire Dutot"
   ]
  },
  {
   "cell_type": "markdown",
   "metadata": {},
   "source": [
    "## This notebook is meant to be run on google colab"
   ]
  },
  {
   "cell_type": "code",
   "execution_count": 37,
   "metadata": {
    "colab": {
     "base_uri": "https://localhost:8080/"
    },
    "id": "8TRqW6IsvJgn",
    "outputId": "aa95feb5-655a-4a69-8244-373cfc7f0a17"
   },
   "outputs": [
    {
     "name": "stdout",
     "output_type": "stream",
     "text": [
      "Requirement already satisfied: ruptures in /usr/local/lib/python3.7/dist-packages (1.1.6)\n",
      "Requirement already satisfied: numpy in /usr/local/lib/python3.7/dist-packages (from ruptures) (1.21.5)\n",
      "Requirement already satisfied: scipy in /usr/local/lib/python3.7/dist-packages (from ruptures) (1.4.1)\n"
     ]
    }
   ],
   "source": [
    "!pip install ruptures"
   ]
  },
  {
   "cell_type": "code",
   "execution_count": null,
   "metadata": {
    "id": "lRIflWVCvLI_"
   },
   "outputs": [],
   "source": [
    "import datetime as dt\n",
    "from math import log\n",
    "\n",
    "import matplotlib as mpl\n",
    "import matplotlib.pyplot as plt\n",
    "import seaborn as sns\n",
    "import numpy as np\n",
    "import pandas as pd\n",
    "import ruptures as rpt\n",
    "from ruptures.base import BaseCost\n",
    "from ruptures.metrics import hausdorff\n",
    "from scipy.stats import ttest_ind\n",
    "from scipy.optimize import minimize, root\n",
    "from tqdm import tqdm\n",
    "from time import time\n",
    "from sklearn.metrics import adjusted_rand_score\n",
    "\n",
    "import warnings\n",
    "warnings.filterwarnings(\"ignore\")"
   ]
  },
  {
   "cell_type": "code",
   "execution_count": 39,
   "metadata": {
    "id": "LY-JMVg41fWh"
   },
   "outputs": [],
   "source": [
    "## Utils\n",
    "def fig_ax(nrows=1, figsize=(15, 5)):\n",
    "    return plt.subplots(nrows=nrows, figsize=(figsize[0], figsize[1] * nrows))"
   ]
  },
  {
   "cell_type": "markdown",
   "metadata": {
    "id": "wKxn7IcsVRB4"
   },
   "source": [
    "## R-FPOP implementation"
   ]
  },
  {
   "cell_type": "markdown",
   "metadata": {
    "id": "8ARZDISqiEST"
   },
   "source": [
    "We implemented a heap structure to efficiently store, read and write the piecewise quadratic writing of the cost objective.\n",
    "\n",
    "A quadratic function $q_i$ is coded by an object `Node` defined by its `start` and `end` points and its coefficients `[a2,a1,a0]` such that $q_i(\\theta)=a_2 \\theta^2 + a_1\\theta + a_0$.\n",
    "\n",
    "It also has a `child` and a `father` field which verify : `self.end==self.child.start` and `self.start==self.father.end`.\n",
    "\n",
    "We define the methods `split` and `merge` to modify the elements of the heap, while keeping its structure consistent."
   ]
  },
  {
   "cell_type": "code",
   "execution_count": 40,
   "metadata": {
    "id": "HEnlwGsOi2rp"
   },
   "outputs": [],
   "source": [
    "class Node():\n",
    "    def __init__(self, start, end, coeffs: np.ndarray, change_point=None):\n",
    "        self.start = start # start of the interval\n",
    "        self.end = end # end of the interval\n",
    "        self.coeffs = coeffs # [a2, a1, a0]\n",
    "        self.change_point = change_point\n",
    "        self.child = None\n",
    "        self.father = None\n",
    "\n",
    "    def func(self, theta):\n",
    "        return (self.coeffs * theta ** np.arange(2,-1,-1)).reshape(-1,3).sum(axis=1)\n",
    "\n",
    "    def set_child(self, ChildNode):\n",
    "        self.child = ChildNode\n",
    "        ChildNode.father = self\n",
    "\n",
    "    def set_father(self, FatherNode):\n",
    "        self.father = FatherNode\n",
    "        FatherNode.child = self\n",
    "\n",
    "    def merge(self):\n",
    "        '''merge a Node with its child'''\n",
    "        if self.change_point!=self.child.change_point:\n",
    "            # this should not happen but on thousands of runs it happened once\n",
    "            return\n",
    "        self.end = self.child.end\n",
    "        self.child = self.child.child # WARNING potential memory leak? no idea how python handle the intermediate point\n",
    "\n",
    "    def split(self, mid, coeffs, after=True):\n",
    "        # change_point?\n",
    "        if after:\n",
    "            # new coeffs after mid\n",
    "            new = Node(mid, self.end, coeffs)\n",
    "        else:\n",
    "            # new coeffs before mid\n",
    "            new = Node(mid, self.end, self.coeffs)\n",
    "            self.coeffs = coeffs\n",
    "        self.end = mid\n",
    "        new.set_child(self.child)\n",
    "        self.set_child(new)\n",
    "\n",
    "class ChainedList():\n",
    "    def __init__(self, start, end, coeffs, change_point=None):\n",
    "        self.root = Node(start, end, coeffs, change_point)\n",
    "        self.length = 1    \n",
    "\n",
    "    def simplify(self):\n",
    "        current_node = self.root\n",
    "        n_changes = 0\n",
    "        while current_node!=None and current_node.child!=None:\n",
    "            if (current_node.coeffs==current_node.child.coeffs).all():\n",
    "                current_node.merge()\n",
    "                n_changes += 1\n",
    "            current_node = current_node.child\n",
    "        self.length -= n_changes\n",
    "\n",
    "    def plot(self):\n",
    "        current_node = self.root\n",
    "        while current_node!=None:\n",
    "            x = np.linspace(current_node.start, current_node.end, 100)\n",
    "            plt.plot(x,current_node.func(x.reshape(-1,1)))\n",
    "            #plt.axvline(current_node.start)\n",
    "            current_node = current_node.child\n",
    "        plt.show()"
   ]
  },
  {
   "cell_type": "code",
   "execution_count": 41,
   "metadata": {
    "id": "zzn7fHu3qtX4"
   },
   "outputs": [],
   "source": [
    "def compute_Q_theta(Q_star: ChainedList, Gamma: ChainedList):\n",
    "    current_node_qstar = Q_star.root\n",
    "    current_node_gamma = Gamma.root\n",
    "    define_root = True\n",
    "    \n",
    "    while current_node_qstar!=None and current_node_gamma!=None:\n",
    "        start = max(current_node_qstar.start, current_node_gamma.start)\n",
    "        end = min(current_node_qstar.end, current_node_gamma.end)\n",
    "\n",
    "        if define_root:\n",
    "            Q_theta = ChainedList(\n",
    "                start,\n",
    "                end,\n",
    "                current_node_qstar.coeffs+current_node_gamma.coeffs,\n",
    "                current_node_qstar.change_point\n",
    "            )\n",
    "            current_node_q = Q_theta.root\n",
    "            define_root = False\n",
    "        else:\n",
    "            current_node_q.set_child(Node(\n",
    "                start,\n",
    "                end,\n",
    "                current_node_qstar.coeffs+current_node_gamma.coeffs,\n",
    "                current_node_qstar.change_point\n",
    "            ))\n",
    "            current_node_q = current_node_q.child\n",
    "            Q_theta.length += 1\n",
    "        \n",
    "        if current_node_qstar.end == current_node_q.end:\n",
    "            current_node_qstar = current_node_qstar.child\n",
    "        else:\n",
    "            current_node_gamma = current_node_gamma.child\n",
    "\n",
    "    return Q_theta\n",
    "\n",
    "\n",
    "def min_best_change(Q_theta: ChainedList):\n",
    "    current_node_q = Q_theta.root\n",
    "    Q = np.inf\n",
    "    tau_t = 0\n",
    "    while current_node_q!=None:\n",
    "        m = minimize(\n",
    "            current_node_q.func,\n",
    "            current_node_q.start,\n",
    "            bounds=((current_node_q.start, current_node_q.end),)\n",
    "        ).fun[0]\n",
    "        if m < Q:\n",
    "            Q = m\n",
    "            tau_t = current_node_q.change_point\n",
    "        current_node_q = current_node_q.child\n",
    "    return (Q, tau_t)\n",
    "\n",
    "def compute_Q_star(Q_theta: ChainedList, C, t):\n",
    "    eps = 1e-3 # to avoid numeric approximation errors\n",
    "    current_node_q = Q_theta.root\n",
    "    define_root = True\n",
    "    while current_node_q!=None:\n",
    "        R_tmp = np.roots(current_node_q.coeffs - np.array([0,0,C]))\n",
    "        R_tmp.sort()\n",
    "        R = [current_node_q.start]\n",
    "        for root in R_tmp:\n",
    "            if root > current_node_q.start + eps and root < current_node_q.end - eps and not np.iscomplex(root):\n",
    "                R.append(root)\n",
    "        R.append(current_node_q.end)\n",
    "        for j in range(len(R)-1):\n",
    "            start = R[j]\n",
    "            end = R[j+1]\n",
    "            # on this interval, Q_t(theta) has a constant sign\n",
    "            if current_node_q.func((start+end)/2) > C:\n",
    "                coeffs = np.array([0,0,C])\n",
    "                change_point = t\n",
    "            else:\n",
    "                coeffs = current_node_q.coeffs.copy()\n",
    "                change_point = current_node_q.change_point\n",
    "            \n",
    "            if define_root:\n",
    "                Q_star = ChainedList(\n",
    "                    start,\n",
    "                    end,\n",
    "                    coeffs,\n",
    "                    change_point\n",
    "                )\n",
    "                current_node_q_star = Q_star.root\n",
    "                define_root = False\n",
    "            else:\n",
    "                current_node_q_star.set_child(Node(\n",
    "                    start,\n",
    "                    end,\n",
    "                    coeffs,\n",
    "                    change_point\n",
    "                ))\n",
    "                current_node_q_star = current_node_q_star.child\n",
    "                Q_star.length += 1\n",
    "        current_node_q = current_node_q.child\n",
    "    return Q_star"
   ]
  },
  {
   "cell_type": "code",
   "execution_count": 42,
   "metadata": {
    "id": "lLFKpBGurHF6"
   },
   "outputs": [],
   "source": [
    "def rfpop(signal, pen, thresh):\n",
    "    n = signal.shape[0]\n",
    "    Q_star = ChainedList(\n",
    "        signal.min(),\n",
    "        signal.max(),\n",
    "        coeffs = np.zeros(3)\n",
    "    )\n",
    "    change_points = []\n",
    "    nb_intervals = []\n",
    "    for t in tqdm(range(n)):\n",
    "        # compute gamma(y_t, theta)\n",
    "        # \\theta**2 - 2*y_t*\\theta + y_t**2\n",
    "        R_tmp = np.roots(np.array([1,-2*signal[t],signal[t]**2]) - np.array([0,0,thresh**2]))\n",
    "        R_tmp.sort()\n",
    "        R = [signal.min()]\n",
    "        for root in R_tmp:\n",
    "            if root > signal.min() and root < signal.max() and root==np.real(root):\n",
    "                R.append(root)\n",
    "        R.append([signal.max()])\n",
    "        for idx in range(len(R)-1):\n",
    "            if (signal[t] - (R[idx]+R[idx+1])/2)**2 < thresh**2:\n",
    "                coeffs = np.array([1,-2*signal[t],signal[t]**2])\n",
    "            else:\n",
    "                coeffs = np.array([0,0,thresh**2])\n",
    "            if not idx:\n",
    "                Gamma = ChainedList(\n",
    "                    R[idx],\n",
    "                    R[idx+1],\n",
    "                    coeffs\n",
    "                )\n",
    "                current_node_gamma = Gamma.root\n",
    "            else:\n",
    "                current_node_gamma.set_child(Node(\n",
    "                    R[idx],\n",
    "                    R[idx+1],\n",
    "                    coeffs\n",
    "                ))\n",
    "                current_node_gamma = current_node_gamma.child\n",
    "        #Gamma.plot()\n",
    "        Q_theta = compute_Q_theta(Q_star, Gamma)\n",
    "        Q, tau = min_best_change(Q_theta)\n",
    "        change_points.append((Q,tau))\n",
    "        Q_star = compute_Q_star(Q_theta,Q+pen, t)\n",
    "        Q_star.simplify()\n",
    "        # Q_theta.plot()\n",
    "        # Q_star.plot()\n",
    "        nb_intervals.append(Q_star.length)\n",
    "    return change_points, nb_intervals"
   ]
  },
  {
   "cell_type": "markdown",
   "metadata": {
    "id": "mgaa0ua4VjSX"
   },
   "source": [
    "# Artificial outliers"
   ]
  },
  {
   "cell_type": "markdown",
   "metadata": {
    "id": "iVLCpA-kQvu_"
   },
   "source": [
    "### Generating data"
   ]
  },
  {
   "cell_type": "code",
   "execution_count": 46,
   "metadata": {
    "colab": {
     "base_uri": "https://localhost:8080/",
     "height": 437
    },
    "id": "ydC95yl5MwbV",
    "outputId": "3165d4ef-094c-4a5f-e886-7b30fe71e012"
   },
   "outputs": [
    {
     "data": {
      "image/png": "[encoded data removed]",
      "text/plain": [
       "<Figure size 1080x216 with 1 Axes>"
      ]
     },
     "metadata": {
      "needs_background": "light"
     },
     "output_type": "display_data"
    },
    {
     "data": {
      "image/png": "[encoded data removed]",
      "text/plain": [
       "<Figure size 1080x216 with 1 Axes>"
      ]
     },
     "metadata": {
      "needs_background": "light"
     },
     "output_type": "display_data"
    }
   ],
   "source": [
    "# generate signal\n",
    "n_samples = 300\n",
    "n_bkps = 3 #10\n",
    "n_dims = 1\n",
    "noise_std = 1\n",
    "seed_noise = 42\n",
    "np.random.seed(seed_noise)\n",
    "\n",
    "\n",
    "def fig_ax(figsize=(15, 3)):\n",
    "    return plt.subplots(figsize=figsize)\n",
    "\n",
    "\n",
    "def generate_signal_normal(n_samples, n_bkps, n_dims, noise_std, outlier_ratio, outlier_mult_factor, plot=False):\n",
    "    signal_clean, bkps = rpt.pw_constant(\n",
    "        n_samples=n_samples, n_features=n_dims, n_bkps=n_bkps, noise_std=0, seed=1\n",
    "    )\n",
    "    signal = signal_clean + np.random.normal(\n",
    "        scale=noise_std, size=signal_clean.shape\n",
    "    )\n",
    "\n",
    "    n_outliers = int(n_samples * outlier_ratio)\n",
    "    idx = np.random.choice(n_samples, n_outliers, replace=False)\n",
    "    signal[idx] *= outlier_mult_factor\n",
    "\n",
    "    if plot:\n",
    "        fig, ax = fig_ax()\n",
    "        ax.plot(signal_clean, label=\"True\")\n",
    "        ax.plot(signal, label=\"Observed\")\n",
    "        ax.set_title('Artificial signal with gaussian noise')\n",
    "        _ = plt.legend()\n",
    "        plt.show()\n",
    "        \n",
    "    return signal, bkps\n",
    "\n",
    "\n",
    "def generate_signal_t_distrib(n_samples, n_bkps, n_dims, dof, plot=False):\n",
    "    signal_clean, bkps = rpt.pw_constant(\n",
    "        n_samples=n_samples, n_features=n_dims, n_bkps=n_bkps, noise_std=0, seed=1\n",
    "    )\n",
    "    noise = np.random.standard_t(dof, size=signal_clean.shape)\n",
    "    signal = signal_clean + noise\n",
    "\n",
    "    if plot:\n",
    "        fig, ax = fig_ax()\n",
    "        ax.plot(signal_clean, label=\"True\")\n",
    "        ax.plot(signal, label=\"Observed\")\n",
    "        ax.set_title('Artificial signal from T-distribution')\n",
    "        _ = plt.legend()\n",
    "        plt.show()\n",
    "\n",
    "    return signal, bkps\n",
    "\n",
    "\n",
    "def classify(bkps, signal):\n",
    "    classification = np.zeros(len(signal))\n",
    "    classification[:bkps[0]] = 0\n",
    "    for i in range(len(bkps)-1):\n",
    "      classification[bkps[i]:bkps[i+1]] = i+1\n",
    "    classification[bkps[-1]:] = len(bkps)-1\n",
    "    return classification\n",
    "\n",
    "\n",
    "def eval_segmentation(true_bkps, pred_bkps, signal):\n",
    "    true_seg = classify(true_bkps, signal)\n",
    "    pred_seg = classify(pred_bkps, signal)\n",
    "    return adjusted_rand_score(true_seg, pred_seg)\n",
    "\n",
    "\n",
    "signal_g, bkps_g = generate_signal_normal(n_samples, n_bkps, n_dims, noise_std, outlier_ratio=0.01, outlier_mult_factor=3, plot=True)\n",
    "signal_t, bkps_t = generate_signal_t_distrib(n_samples, n_bkps, n_dims, 2, plot=True)"
   ]
  },
  {
   "cell_type": "markdown",
   "metadata": {
    "id": "zcMWx6PJQl1T"
   },
   "source": [
    "### PELT algorithm + L2 loss"
   ]
  },
  {
   "cell_type": "code",
   "execution_count": 47,
   "metadata": {
    "colab": {
     "base_uri": "https://localhost:8080/",
     "height": 190
    },
    "id": "ToBH6BxCPFQi",
    "outputId": "0bd17512-7390-45b7-f622-b53fb175d984"
   },
   "outputs": [
    {
     "name": "stdout",
     "output_type": "stream",
     "text": [
      "error: 21.0 samples\n",
      "rand index: 0.8942166268534935\n"
     ]
    },
    {
     "data": {
      "image/png": "[encoded data removed]",
      "text/plain": [
       "<Figure size 720x144 with 1 Axes>"
      ]
     },
     "metadata": {
      "needs_background": "light"
     },
     "output_type": "display_data"
    }
   ],
   "source": [
    "pen_bic = 2 * np.log(n_samples) * noise_std**2 \n",
    "predicted_bkps_g = rpt.Pelt(model=\"l2\", jump=1).fit_predict(\n",
    "    signal=signal_g, pen=pen_bic\n",
    ")\n",
    "\n",
    "fig, ax_arr = rpt.display(signal_g, bkps_g, predicted_bkps_g)\n",
    "print(f\"error: {hausdorff(bkps_g, predicted_bkps_g)} samples\")\n",
    "print(f\"rand index: {eval_segmentation(bkps_g, predicted_bkps_g, signal_g)}\")"
   ]
  },
  {
   "cell_type": "code",
   "execution_count": 48,
   "metadata": {
    "colab": {
     "base_uri": "https://localhost:8080/",
     "height": 190
    },
    "id": "BN7tIpQnyzjU",
    "outputId": "8b22ae5a-b868-4591-bdcf-a43f93f76f16"
   },
   "outputs": [
    {
     "name": "stdout",
     "output_type": "stream",
     "text": [
      "error: 66.0 samples\n",
      "rand index: 0.5418851364898999\n"
     ]
    },
    {
     "data": {
      "image/png": "[encoded data removed]",
      "text/plain": [
       "<Figure size 720x144 with 1 Axes>"
      ]
     },
     "metadata": {
      "needs_background": "light"
     },
     "output_type": "display_data"
    }
   ],
   "source": [
    "pen_bic = 2 * np.log(n_samples) * noise_std**2 \n",
    "predicted_bkps_t = rpt.Pelt(model=\"l2\", jump=1).fit_predict(\n",
    "    signal=signal_t, pen=pen_bic\n",
    ")\n",
    "\n",
    "fig, ax_arr = rpt.display(signal_t, bkps_t, predicted_bkps_t)\n",
    "print(f\"error: {hausdorff(bkps_t, predicted_bkps_t)} samples\")\n",
    "print(f\"rand index: {eval_segmentation(bkps_t, predicted_bkps_t, signal_t)}\")"
   ]
  },
  {
   "cell_type": "markdown",
   "metadata": {
    "id": "BDyR45L-QfkS"
   },
   "source": [
    "### PELT Algorithm + Biweight loss"
   ]
  },
  {
   "cell_type": "code",
   "execution_count": 49,
   "metadata": {
    "id": "ZfJYwKpizO5w"
   },
   "outputs": [],
   "source": [
    "class BiweightCost(BaseCost):\n",
    "\n",
    "    \"\"\"Biweight cost\"\"\"\n",
    "\n",
    "    model = \"Biweight\"\n",
    "    \n",
    "\n",
    "    def __init__(self, thresh):\n",
    "        \"\"\"Initialize the object.\"\"\"\n",
    "        self.signal = None\n",
    "        self.min_size = 2\n",
    "        self.thresh = thresh\n",
    "\n",
    "    def fit(self, signal):\n",
    "        \"\"\"Set the internal parameter.\"\"\"\n",
    "        self.signal = signal\n",
    "        return self\n",
    "\n",
    "    def error(self, start, end):\n",
    "        \"\"\"Return the approximation cost on the segment [start:end].\n",
    "\n",
    "        Args:\n",
    "            start (int): start of the segment\n",
    "            end (int): end of the segment\n",
    "\n",
    "        Returns:\n",
    "            float: segment cost\n",
    "        \"\"\"\n",
    "        sub = self.signal[start:end]\n",
    "        l2_dist = sub.var(axis=0) * (end-start)\n",
    "        constant = np.ones(sub.shape) * self.thresh**2\n",
    "        mask = (l2_dist > self.thresh**2).astype(int)\n",
    "        return (mask*constant + (1-mask)*l2_dist).mean()"
   ]
  },
  {
   "cell_type": "code",
   "execution_count": 51,
   "metadata": {
    "colab": {
     "base_uri": "https://localhost:8080/",
     "height": 190
    },
    "id": "HaAF42Ge3Ea2",
    "outputId": "72c3313a-8717-4b64-8b99-9846eb130e2c"
   },
   "outputs": [
    {
     "name": "stdout",
     "output_type": "stream",
     "text": [
      "error: 55.0 samples\n",
      "rand index: 0.8069076444554724\n"
     ]
    },
    {
     "data": {
      "image/png": "[encoded data removed]",
      "text/plain": [
       "<Figure size 720x144 with 1 Axes>"
      ]
     },
     "metadata": {
      "needs_background": "light"
     },
     "output_type": "display_data"
    }
   ],
   "source": [
    "pen_bic = 2 * np.log(n_samples) * noise_std**2 \n",
    "predicted_bkps_t = rpt.Pelt(custom_cost=BiweightCost(3*pen_bic)).fit_predict(\n",
    "    signal=signal_t, pen=pen_bic\n",
    ")\n",
    "\n",
    "fig, ax_arr = rpt.display(signal_t, bkps_t, predicted_bkps_t)\n",
    "print(f\"error: {hausdorff(bkps_t, predicted_bkps_t)} samples\")\n",
    "print(f\"rand index: {eval_segmentation(bkps_t, predicted_bkps_t, signal_t)}\")"
   ]
  },
  {
   "cell_type": "markdown",
   "metadata": {
    "id": "lp_1U3gKRiHU"
   },
   "source": [
    "Using the biweight loss brings a bit more robustness but the results are still not satisfying. It also seems that the fitting of the threshold parameter follows *ad hoc* rules with PELT."
   ]
  },
  {
   "cell_type": "markdown",
   "metadata": {
    "id": "RSvCDwLpSTgN"
   },
   "source": [
    "### R-FPOP"
   ]
  },
  {
   "cell_type": "code",
   "execution_count": 53,
   "metadata": {
    "colab": {
     "base_uri": "https://localhost:8080/",
     "height": 209
    },
    "id": "OS3YDuXDStpM",
    "outputId": "aa8997cc-66df-4d99-d248-c97ac8bc653f"
   },
   "outputs": [
    {
     "name": "stderr",
     "output_type": "stream",
     "text": [
      "100%|██████████| 300/300 [00:02<00:00, 148.56it/s]\n"
     ]
    },
    {
     "name": "stdout",
     "output_type": "stream",
     "text": [
      "error: 1.0 samples\n",
      "rand index: 0.9732483027554987\n"
     ]
    },
    {
     "data": {
      "image/png": "[encoded data removed]",
      "text/plain": [
       "<Figure size 720x144 with 1 Axes>"
      ]
     },
     "metadata": {
      "needs_background": "light"
     },
     "output_type": "display_data"
    }
   ],
   "source": [
    "var_g = noise_std**2\n",
    "cp_g, _ = rfpop(signal_g, var_g*70, 3*np.sqrt(var_g))\n",
    "\n",
    "cp_g = np.array(cp_g)[:,1]\n",
    "cp_g[np.where(cp_g == None)] = 0\n",
    "predicted_bkps_g = np.unique(cp_g)[1:]\n",
    "predicted_bkps_g = np.hstack((predicted_bkps_g, n_samples))\n",
    "\n",
    "fig, ax_arr = rpt.display(signal_g, bkps_g, predicted_bkps_g)\n",
    "print(f\"error: {hausdorff(bkps_g, predicted_bkps_g)} samples\")\n",
    "print(f\"rand index: {eval_segmentation(bkps_g, predicted_bkps_g, signal_g)}\")"
   ]
  },
  {
   "cell_type": "code",
   "execution_count": 54,
   "metadata": {
    "colab": {
     "base_uri": "https://localhost:8080/",
     "height": 209
    },
    "id": "uKPKyR6QTbXH",
    "outputId": "f9060dba-8729-4ce1-d059-a28522e63c14"
   },
   "outputs": [
    {
     "name": "stderr",
     "output_type": "stream",
     "text": [
      "100%|██████████| 300/300 [00:02<00:00, 122.86it/s]\n"
     ]
    },
    {
     "name": "stdout",
     "output_type": "stream",
     "text": [
      "error: 3.0 samples\n",
      "rand index: 0.9733750722955723\n"
     ]
    },
    {
     "data": {
      "image/png": "[encoded data removed]",
      "text/plain": [
       "<Figure size 720x144 with 1 Axes>"
      ]
     },
     "metadata": {
      "needs_background": "light"
     },
     "output_type": "display_data"
    }
   ],
   "source": [
    "var_t = noise_std**2\n",
    "cp_t, _ = rfpop(signal_t, var_t*70, 3*np.sqrt(var_t))\n",
    "\n",
    "cp_t = np.array(cp_t)[:,1]\n",
    "cp_t[np.where(cp_t == None)] = 0\n",
    "predicted_bkps_t = np.unique(cp_t)[1:]\n",
    "predicted_bkps_t = np.hstack((predicted_bkps_t, n_samples))\n",
    "\n",
    "fig, ax_arr = rpt.display(signal_t, bkps_t, predicted_bkps_t)\n",
    "print(f\"error: {hausdorff(bkps_t, predicted_bkps_t)} samples\")\n",
    "print(f\"rand index: {eval_segmentation(bkps_t, predicted_bkps_t, signal_t)}\")"
   ]
  },
  {
   "cell_type": "markdown",
   "metadata": {
    "id": "M3HAmcX6TxjX"
   },
   "source": [
    "The results are very satisfying with almost no mistake."
   ]
  },
  {
   "cell_type": "markdown",
   "metadata": {
    "id": "Biyff-k8aJdC"
   },
   "source": [
    "### Extensive comparison of the 3 approaches\n",
    "\n",
    "**WARNING** : the cells in the following section take up to several minutes to run\n",
    "\n",
    "In the following section, we compare the 3 previous approaches on several signals generated from a T-distribution for different values of the number of degrees of freedom."
   ]
  },
  {
   "cell_type": "code",
   "execution_count": 68,
   "metadata": {
    "colab": {
     "base_uri": "https://localhost:8080/"
    },
    "id": "DLBdAi9caIOO",
    "outputId": "4440c6a8-670f-493f-f9e4-659977effb73"
   },
   "outputs": [
    {
     "name": "stdout",
     "output_type": "stream",
     "text": [
      "\n",
      "Number of degree of freedom 1\n"
     ]
    },
    {
     "name": "stderr",
     "output_type": "stream",
     "text": [
      "100%|██████████| 300/300 [00:02<00:00, 124.17it/s]\n",
      "100%|██████████| 300/300 [00:01<00:00, 204.58it/s]\n",
      "100%|██████████| 300/300 [00:02<00:00, 145.24it/s]\n",
      "100%|██████████| 300/300 [00:01<00:00, 171.65it/s]\n",
      "100%|██████████| 300/300 [00:01<00:00, 218.53it/s]\n",
      "100%|██████████| 300/300 [00:01<00:00, 204.18it/s]\n",
      "100%|██████████| 300/300 [00:01<00:00, 223.25it/s]\n",
      "100%|██████████| 300/300 [00:01<00:00, 205.82it/s]\n",
      "100%|██████████| 300/300 [00:01<00:00, 233.71it/s]\n",
      "100%|██████████| 300/300 [00:01<00:00, 204.78it/s]\n",
      "100%|██████████| 300/300 [00:01<00:00, 226.80it/s]\n",
      "100%|██████████| 300/300 [00:01<00:00, 202.85it/s]\n",
      "100%|██████████| 300/300 [00:01<00:00, 230.92it/s]\n",
      "100%|██████████| 300/300 [00:01<00:00, 222.87it/s]\n",
      "100%|██████████| 300/300 [00:01<00:00, 210.96it/s]\n",
      "100%|██████████| 300/300 [00:01<00:00, 220.61it/s]\n",
      "100%|██████████| 300/300 [00:01<00:00, 220.46it/s]\n",
      "100%|██████████| 300/300 [00:01<00:00, 219.92it/s]\n",
      "100%|██████████| 300/300 [00:01<00:00, 216.71it/s]\n",
      "100%|██████████| 300/300 [00:01<00:00, 219.55it/s]\n",
      "100%|██████████| 300/300 [00:01<00:00, 196.45it/s]\n",
      "100%|██████████| 300/300 [00:01<00:00, 233.03it/s]\n",
      "100%|██████████| 300/300 [00:01<00:00, 220.43it/s]\n",
      "100%|██████████| 300/300 [00:01<00:00, 222.69it/s]\n",
      "100%|██████████| 300/300 [00:01<00:00, 213.68it/s]\n"
     ]
    },
    {
     "name": "stdout",
     "output_type": "stream",
     "text": [
      "\n",
      "Number of degree of freedom 2\n"
     ]
    },
    {
     "name": "stderr",
     "output_type": "stream",
     "text": [
      "100%|██████████| 300/300 [00:01<00:00, 237.63it/s]\n",
      "100%|██████████| 300/300 [00:01<00:00, 234.37it/s]\n",
      "100%|██████████| 300/300 [00:01<00:00, 214.00it/s]\n",
      "100%|██████████| 300/300 [00:02<00:00, 135.98it/s]\n",
      "100%|██████████| 300/300 [00:02<00:00, 114.14it/s]\n",
      "100%|██████████| 300/300 [00:02<00:00, 135.58it/s]\n",
      "100%|██████████| 300/300 [00:01<00:00, 212.12it/s]\n",
      "100%|██████████| 300/300 [00:01<00:00, 241.07it/s]\n",
      "100%|██████████| 300/300 [00:01<00:00, 229.04it/s]\n",
      "100%|██████████| 300/300 [00:01<00:00, 232.79it/s]\n",
      "100%|██████████| 300/300 [00:01<00:00, 232.20it/s]\n",
      "100%|██████████| 300/300 [00:01<00:00, 240.98it/s]\n",
      "100%|██████████| 300/300 [00:01<00:00, 155.76it/s]\n",
      "100%|██████████| 300/300 [00:01<00:00, 235.87it/s]\n",
      "100%|██████████| 300/300 [00:01<00:00, 222.40it/s]\n",
      "100%|██████████| 300/300 [00:01<00:00, 225.76it/s]\n",
      "100%|██████████| 300/300 [00:01<00:00, 205.41it/s]\n",
      "100%|██████████| 300/300 [00:01<00:00, 237.61it/s]\n",
      "100%|██████████| 300/300 [00:01<00:00, 209.62it/s]\n",
      "100%|██████████| 300/300 [00:01<00:00, 235.82it/s]\n",
      "100%|██████████| 300/300 [00:01<00:00, 220.02it/s]\n",
      "100%|██████████| 300/300 [00:01<00:00, 224.52it/s]\n",
      "100%|██████████| 300/300 [00:01<00:00, 216.64it/s]\n",
      "100%|██████████| 300/300 [00:01<00:00, 219.81it/s]\n",
      "100%|██████████| 300/300 [00:01<00:00, 241.01it/s]\n"
     ]
    },
    {
     "name": "stdout",
     "output_type": "stream",
     "text": [
      "\n",
      "Number of degree of freedom 3\n"
     ]
    },
    {
     "name": "stderr",
     "output_type": "stream",
     "text": [
      "100%|██████████| 300/300 [00:01<00:00, 193.04it/s]\n",
      "100%|██████████| 300/300 [00:01<00:00, 271.29it/s]\n",
      "100%|██████████| 300/300 [00:01<00:00, 251.51it/s]\n",
      "100%|██████████| 300/300 [00:01<00:00, 228.13it/s]\n",
      "100%|██████████| 300/300 [00:01<00:00, 227.36it/s]\n",
      "100%|██████████| 300/300 [00:01<00:00, 230.56it/s]\n",
      "100%|██████████| 300/300 [00:01<00:00, 216.05it/s]\n",
      "100%|██████████| 300/300 [00:01<00:00, 222.94it/s]\n",
      "100%|██████████| 300/300 [00:01<00:00, 242.61it/s]\n",
      "100%|██████████| 300/300 [00:01<00:00, 227.87it/s]\n",
      "100%|██████████| 300/300 [00:01<00:00, 234.82it/s]\n",
      "100%|██████████| 300/300 [00:01<00:00, 216.59it/s]\n",
      "100%|██████████| 300/300 [00:01<00:00, 240.91it/s]\n",
      "100%|██████████| 300/300 [00:01<00:00, 231.85it/s]\n",
      "100%|██████████| 300/300 [00:01<00:00, 218.93it/s]\n",
      "100%|██████████| 300/300 [00:01<00:00, 233.67it/s]\n",
      "100%|██████████| 300/300 [00:01<00:00, 228.56it/s]\n",
      "100%|██████████| 300/300 [00:01<00:00, 233.89it/s]\n",
      "100%|██████████| 300/300 [00:01<00:00, 231.41it/s]\n",
      "100%|██████████| 300/300 [00:01<00:00, 250.36it/s]\n",
      "100%|██████████| 300/300 [00:01<00:00, 248.67it/s]\n",
      "100%|██████████| 300/300 [00:01<00:00, 212.44it/s]\n",
      "100%|██████████| 300/300 [00:01<00:00, 242.90it/s]\n",
      "100%|██████████| 300/300 [00:01<00:00, 241.39it/s]\n",
      "100%|██████████| 300/300 [00:01<00:00, 219.62it/s]\n"
     ]
    },
    {
     "name": "stdout",
     "output_type": "stream",
     "text": [
      "\n",
      "Number of degree of freedom 4\n"
     ]
    },
    {
     "name": "stderr",
     "output_type": "stream",
     "text": [
      "100%|██████████| 300/300 [00:01<00:00, 217.72it/s]\n",
      "100%|██████████| 300/300 [00:01<00:00, 235.49it/s]\n",
      "100%|██████████| 300/300 [00:01<00:00, 232.40it/s]\n",
      "100%|██████████| 300/300 [00:01<00:00, 231.69it/s]\n",
      "100%|██████████| 300/300 [00:01<00:00, 232.64it/s]\n",
      "100%|██████████| 300/300 [00:01<00:00, 235.86it/s]\n",
      "100%|██████████| 300/300 [00:01<00:00, 214.83it/s]\n",
      "100%|██████████| 300/300 [00:01<00:00, 247.67it/s]\n",
      "100%|██████████| 300/300 [00:01<00:00, 222.41it/s]\n",
      "100%|██████████| 300/300 [00:01<00:00, 223.97it/s]\n",
      "100%|██████████| 300/300 [00:01<00:00, 260.96it/s]\n",
      "100%|██████████| 300/300 [00:01<00:00, 233.57it/s]\n",
      "100%|██████████| 300/300 [00:01<00:00, 235.61it/s]\n",
      "100%|██████████| 300/300 [00:01<00:00, 240.66it/s]\n",
      "100%|██████████| 300/300 [00:01<00:00, 213.54it/s]\n",
      "100%|██████████| 300/300 [00:01<00:00, 245.19it/s]\n",
      "100%|██████████| 300/300 [00:01<00:00, 228.23it/s]\n",
      "100%|██████████| 300/300 [00:01<00:00, 242.62it/s]\n",
      "100%|██████████| 300/300 [00:01<00:00, 251.06it/s]\n",
      "100%|██████████| 300/300 [00:01<00:00, 242.85it/s]\n",
      "100%|██████████| 300/300 [00:02<00:00, 111.96it/s]\n",
      "100%|██████████| 300/300 [00:01<00:00, 219.09it/s]\n",
      "100%|██████████| 300/300 [00:01<00:00, 241.77it/s]\n",
      "100%|██████████| 300/300 [00:01<00:00, 243.30it/s]\n",
      "100%|██████████| 300/300 [00:01<00:00, 243.93it/s]\n"
     ]
    },
    {
     "name": "stdout",
     "output_type": "stream",
     "text": [
      "\n",
      "Number of degree of freedom 5\n"
     ]
    },
    {
     "name": "stderr",
     "output_type": "stream",
     "text": [
      "100%|██████████| 300/300 [00:02<00:00, 122.25it/s]\n",
      "100%|██████████| 300/300 [00:04<00:00, 74.09it/s]\n",
      "100%|██████████| 300/300 [00:04<00:00, 65.21it/s]\n",
      "100%|██████████| 300/300 [00:02<00:00, 121.64it/s]\n",
      "100%|██████████| 300/300 [00:01<00:00, 182.15it/s]\n",
      "100%|██████████| 300/300 [00:03<00:00, 80.45it/s]\n",
      "100%|██████████| 300/300 [00:01<00:00, 232.11it/s]\n",
      "100%|██████████| 300/300 [00:01<00:00, 229.77it/s]\n",
      "100%|██████████| 300/300 [00:01<00:00, 227.15it/s]\n",
      "100%|██████████| 300/300 [00:01<00:00, 226.08it/s]\n",
      "100%|██████████| 300/300 [00:01<00:00, 219.81it/s]\n",
      "100%|██████████| 300/300 [00:01<00:00, 243.09it/s]\n",
      "100%|██████████| 300/300 [00:01<00:00, 247.18it/s]\n",
      "100%|██████████| 300/300 [00:01<00:00, 244.37it/s]\n",
      "100%|██████████| 300/300 [00:01<00:00, 221.71it/s]\n",
      "100%|██████████| 300/300 [00:01<00:00, 244.10it/s]\n",
      "100%|██████████| 300/300 [00:01<00:00, 248.09it/s]\n",
      "100%|██████████| 300/300 [00:01<00:00, 257.83it/s]\n",
      "100%|██████████| 300/300 [00:01<00:00, 211.00it/s]\n",
      "100%|██████████| 300/300 [00:01<00:00, 268.48it/s]\n",
      "100%|██████████| 300/300 [00:01<00:00, 224.35it/s]\n",
      "100%|██████████| 300/300 [00:01<00:00, 247.80it/s]\n",
      "100%|██████████| 300/300 [00:01<00:00, 262.51it/s]\n",
      "100%|██████████| 300/300 [00:01<00:00, 248.21it/s]\n",
      "100%|██████████| 300/300 [00:01<00:00, 263.23it/s]\n"
     ]
    },
    {
     "name": "stdout",
     "output_type": "stream",
     "text": [
      "\n",
      "Number of degree of freedom 6\n"
     ]
    },
    {
     "name": "stderr",
     "output_type": "stream",
     "text": [
      "100%|██████████| 300/300 [00:01<00:00, 240.69it/s]\n",
      "100%|██████████| 300/300 [00:02<00:00, 126.21it/s]\n",
      "100%|██████████| 300/300 [00:03<00:00, 98.47it/s]\n",
      "100%|██████████| 300/300 [00:03<00:00, 93.35it/s]\n",
      "100%|██████████| 300/300 [00:01<00:00, 196.59it/s]\n",
      "100%|██████████| 300/300 [00:01<00:00, 215.48it/s]\n",
      "100%|██████████| 300/300 [00:01<00:00, 233.76it/s]\n",
      "100%|██████████| 300/300 [00:01<00:00, 249.26it/s]\n",
      "100%|██████████| 300/300 [00:01<00:00, 247.07it/s]\n",
      "100%|██████████| 300/300 [00:01<00:00, 243.67it/s]\n",
      "100%|██████████| 300/300 [00:01<00:00, 232.42it/s]\n",
      "100%|██████████| 300/300 [00:01<00:00, 235.92it/s]\n",
      "100%|██████████| 300/300 [00:01<00:00, 242.68it/s]\n",
      "100%|██████████| 300/300 [00:01<00:00, 263.08it/s]\n",
      "100%|██████████| 300/300 [00:01<00:00, 228.65it/s]\n",
      "100%|██████████| 300/300 [00:01<00:00, 241.35it/s]\n",
      "100%|██████████| 300/300 [00:01<00:00, 225.62it/s]\n",
      "100%|██████████| 300/300 [00:01<00:00, 230.33it/s]\n",
      "100%|██████████| 300/300 [00:01<00:00, 229.85it/s]\n",
      "100%|██████████| 300/300 [00:01<00:00, 197.86it/s]\n",
      "100%|██████████| 300/300 [00:02<00:00, 119.18it/s]\n",
      "100%|██████████| 300/300 [00:02<00:00, 111.53it/s]\n",
      "100%|██████████| 300/300 [00:01<00:00, 251.95it/s]\n",
      "100%|██████████| 300/300 [00:01<00:00, 254.33it/s]\n",
      "100%|██████████| 300/300 [00:01<00:00, 243.78it/s]\n"
     ]
    },
    {
     "name": "stdout",
     "output_type": "stream",
     "text": [
      "\n",
      "Number of degree of freedom 7\n"
     ]
    },
    {
     "name": "stderr",
     "output_type": "stream",
     "text": [
      "100%|██████████| 300/300 [00:02<00:00, 133.60it/s]\n",
      "100%|██████████| 300/300 [00:02<00:00, 112.86it/s]\n",
      "100%|██████████| 300/300 [00:06<00:00, 48.22it/s]\n",
      "100%|██████████| 300/300 [00:03<00:00, 88.48it/s]\n",
      "100%|██████████| 300/300 [00:02<00:00, 125.97it/s]\n",
      "100%|██████████| 300/300 [00:02<00:00, 138.67it/s]\n",
      "100%|██████████| 300/300 [00:01<00:00, 230.38it/s]\n",
      "100%|██████████| 300/300 [00:01<00:00, 227.98it/s]\n",
      "100%|██████████| 300/300 [00:01<00:00, 248.37it/s]\n",
      "100%|██████████| 300/300 [00:01<00:00, 248.73it/s]\n",
      "100%|██████████| 300/300 [00:01<00:00, 238.28it/s]\n",
      "100%|██████████| 300/300 [00:01<00:00, 243.92it/s]\n",
      "100%|██████████| 300/300 [00:01<00:00, 234.82it/s]\n",
      "100%|██████████| 300/300 [00:01<00:00, 240.89it/s]\n",
      "100%|██████████| 300/300 [00:01<00:00, 241.81it/s]\n",
      "100%|██████████| 300/300 [00:01<00:00, 239.98it/s]\n",
      "100%|██████████| 300/300 [00:01<00:00, 260.97it/s]\n",
      "100%|██████████| 300/300 [00:01<00:00, 259.03it/s]\n",
      "100%|██████████| 300/300 [00:01<00:00, 257.81it/s]\n",
      "100%|██████████| 300/300 [00:01<00:00, 248.92it/s]\n",
      "100%|██████████| 300/300 [00:01<00:00, 220.57it/s]\n",
      "100%|██████████| 300/300 [00:01<00:00, 238.08it/s]\n",
      "100%|██████████| 300/300 [00:01<00:00, 247.48it/s]\n",
      "100%|██████████| 300/300 [00:01<00:00, 249.84it/s]\n",
      "100%|██████████| 300/300 [00:01<00:00, 258.67it/s]\n"
     ]
    },
    {
     "name": "stdout",
     "output_type": "stream",
     "text": [
      "\n",
      "Number of degree of freedom 8\n"
     ]
    },
    {
     "name": "stderr",
     "output_type": "stream",
     "text": [
      "100%|██████████| 300/300 [00:01<00:00, 253.66it/s]\n",
      "100%|██████████| 300/300 [00:01<00:00, 266.16it/s]\n",
      "100%|██████████| 300/300 [00:01<00:00, 258.68it/s]\n",
      "100%|██████████| 300/300 [00:01<00:00, 228.97it/s]\n",
      "100%|██████████| 300/300 [00:03<00:00, 96.52it/s]\n",
      "100%|██████████| 300/300 [00:02<00:00, 136.47it/s]\n",
      "100%|██████████| 300/300 [00:02<00:00, 105.22it/s]\n",
      "100%|██████████| 300/300 [00:01<00:00, 225.02it/s]\n",
      "100%|██████████| 300/300 [00:01<00:00, 200.49it/s]\n",
      "100%|██████████| 300/300 [00:01<00:00, 250.05it/s]\n",
      "100%|██████████| 300/300 [00:01<00:00, 239.82it/s]\n",
      "100%|██████████| 300/300 [00:01<00:00, 262.70it/s]\n",
      "100%|██████████| 300/300 [00:01<00:00, 284.61it/s]\n",
      "100%|██████████| 300/300 [00:01<00:00, 222.79it/s]\n",
      "100%|██████████| 300/300 [00:01<00:00, 206.10it/s]\n",
      "100%|██████████| 300/300 [00:01<00:00, 237.84it/s]\n",
      "100%|██████████| 300/300 [00:01<00:00, 244.18it/s]\n",
      "100%|██████████| 300/300 [00:01<00:00, 241.63it/s]\n",
      "100%|██████████| 300/300 [00:01<00:00, 259.71it/s]\n",
      "100%|██████████| 300/300 [00:01<00:00, 254.15it/s]\n",
      "100%|██████████| 300/300 [00:01<00:00, 245.43it/s]\n",
      "100%|██████████| 300/300 [00:01<00:00, 240.52it/s]\n",
      "100%|██████████| 300/300 [00:01<00:00, 243.19it/s]\n",
      "100%|██████████| 300/300 [00:01<00:00, 217.07it/s]\n",
      "100%|██████████| 300/300 [00:02<00:00, 110.10it/s]\n"
     ]
    },
    {
     "name": "stdout",
     "output_type": "stream",
     "text": [
      "\n",
      "Number of degree of freedom 9\n"
     ]
    },
    {
     "name": "stderr",
     "output_type": "stream",
     "text": [
      "100%|██████████| 300/300 [00:02<00:00, 109.57it/s]\n",
      "100%|██████████| 300/300 [00:02<00:00, 124.67it/s]\n",
      "100%|██████████| 300/300 [00:01<00:00, 257.65it/s]\n",
      "100%|██████████| 300/300 [00:01<00:00, 249.73it/s]\n",
      "100%|██████████| 300/300 [00:01<00:00, 245.72it/s]\n",
      "100%|██████████| 300/300 [00:01<00:00, 249.79it/s]\n",
      "100%|██████████| 300/300 [00:01<00:00, 244.03it/s]\n",
      "100%|██████████| 300/300 [00:01<00:00, 245.23it/s]\n",
      "100%|██████████| 300/300 [00:01<00:00, 155.16it/s]\n",
      "100%|██████████| 300/300 [00:01<00:00, 246.94it/s]\n",
      "100%|██████████| 300/300 [00:01<00:00, 258.06it/s]\n",
      "100%|██████████| 300/300 [00:01<00:00, 249.16it/s]\n",
      "100%|██████████| 300/300 [00:01<00:00, 231.83it/s]\n",
      "100%|██████████| 300/300 [00:01<00:00, 244.35it/s]\n",
      "100%|██████████| 300/300 [00:01<00:00, 263.34it/s]\n",
      "100%|██████████| 300/300 [00:01<00:00, 253.12it/s]\n",
      "100%|██████████| 300/300 [00:01<00:00, 258.22it/s]\n",
      "100%|██████████| 300/300 [00:01<00:00, 260.85it/s]\n",
      "100%|██████████| 300/300 [00:01<00:00, 226.56it/s]\n",
      "100%|██████████| 300/300 [00:01<00:00, 210.51it/s]\n",
      "100%|██████████| 300/300 [00:01<00:00, 263.56it/s]\n",
      "100%|██████████| 300/300 [00:01<00:00, 235.31it/s]\n",
      "100%|██████████| 300/300 [00:01<00:00, 232.07it/s]\n",
      "100%|██████████| 300/300 [00:01<00:00, 253.72it/s]\n",
      "100%|██████████| 300/300 [00:01<00:00, 231.91it/s]\n"
     ]
    },
    {
     "name": "stdout",
     "output_type": "stream",
     "text": [
      "\n",
      "Number of degree of freedom 10\n"
     ]
    },
    {
     "name": "stderr",
     "output_type": "stream",
     "text": [
      "100%|██████████| 300/300 [00:01<00:00, 249.62it/s]\n",
      "100%|██████████| 300/300 [00:01<00:00, 225.67it/s]\n",
      "100%|██████████| 300/300 [00:01<00:00, 239.83it/s]\n",
      "100%|██████████| 300/300 [00:01<00:00, 260.41it/s]\n",
      "100%|██████████| 300/300 [00:01<00:00, 238.19it/s]\n",
      "100%|██████████| 300/300 [00:01<00:00, 245.48it/s]\n",
      "100%|██████████| 300/300 [00:01<00:00, 241.26it/s]\n",
      "100%|██████████| 300/300 [00:01<00:00, 259.88it/s]\n",
      "100%|██████████| 300/300 [00:01<00:00, 254.69it/s]\n",
      "100%|██████████| 300/300 [00:01<00:00, 256.22it/s]\n",
      "100%|██████████| 300/300 [00:01<00:00, 247.86it/s]\n",
      "100%|██████████| 300/300 [00:01<00:00, 269.82it/s]\n",
      "100%|██████████| 300/300 [00:01<00:00, 230.89it/s]\n",
      "100%|██████████| 300/300 [00:01<00:00, 232.26it/s]\n",
      "100%|██████████| 300/300 [00:01<00:00, 265.24it/s]\n",
      "100%|██████████| 300/300 [00:01<00:00, 250.83it/s]\n",
      "100%|██████████| 300/300 [00:01<00:00, 247.01it/s]\n",
      "100%|██████████| 300/300 [00:01<00:00, 264.18it/s]\n",
      "100%|██████████| 300/300 [00:01<00:00, 249.95it/s]\n",
      "100%|██████████| 300/300 [00:01<00:00, 255.26it/s]\n",
      "100%|██████████| 300/300 [00:02<00:00, 108.20it/s]\n",
      "100%|██████████| 300/300 [00:01<00:00, 239.83it/s]\n",
      "100%|██████████| 300/300 [00:01<00:00, 254.91it/s]\n",
      "100%|██████████| 300/300 [00:01<00:00, 248.14it/s]\n",
      "100%|██████████| 300/300 [00:01<00:00, 249.72it/s]\n"
     ]
    },
    {
     "name": "stdout",
     "output_type": "stream",
     "text": [
      "\n",
      "Number of degree of freedom 11\n"
     ]
    },
    {
     "name": "stderr",
     "output_type": "stream",
     "text": [
      "100%|██████████| 300/300 [00:01<00:00, 258.34it/s]\n",
      "100%|██████████| 300/300 [00:01<00:00, 242.19it/s]\n",
      "100%|██████████| 300/300 [00:01<00:00, 249.74it/s]\n",
      "100%|██████████| 300/300 [00:01<00:00, 226.28it/s]\n",
      "100%|██████████| 300/300 [00:01<00:00, 240.10it/s]\n",
      "100%|██████████| 300/300 [00:01<00:00, 255.20it/s]\n",
      "100%|██████████| 300/300 [00:01<00:00, 253.50it/s]\n",
      "100%|██████████| 300/300 [00:02<00:00, 131.46it/s]\n",
      "100%|██████████| 300/300 [00:02<00:00, 135.13it/s]\n",
      "100%|██████████| 300/300 [00:01<00:00, 226.96it/s]\n",
      "100%|██████████| 300/300 [00:02<00:00, 132.51it/s]\n",
      "100%|██████████| 300/300 [00:02<00:00, 137.00it/s]\n",
      "100%|██████████| 300/300 [00:02<00:00, 127.99it/s]\n",
      "100%|██████████| 300/300 [00:02<00:00, 113.94it/s]\n",
      "100%|██████████| 300/300 [00:02<00:00, 122.45it/s]\n",
      "100%|██████████| 300/300 [00:01<00:00, 242.17it/s]\n",
      "100%|██████████| 300/300 [00:01<00:00, 228.15it/s]\n",
      "100%|██████████| 300/300 [00:01<00:00, 249.62it/s]\n",
      "100%|██████████| 300/300 [00:01<00:00, 230.48it/s]\n",
      "100%|██████████| 300/300 [00:01<00:00, 199.73it/s]\n",
      "100%|██████████| 300/300 [00:01<00:00, 236.00it/s]\n",
      "100%|██████████| 300/300 [00:01<00:00, 239.42it/s]\n",
      "100%|██████████| 300/300 [00:01<00:00, 229.89it/s]\n",
      "100%|██████████| 300/300 [00:01<00:00, 237.64it/s]\n",
      "100%|██████████| 300/300 [00:01<00:00, 248.01it/s]\n"
     ]
    },
    {
     "name": "stdout",
     "output_type": "stream",
     "text": [
      "\n",
      "Number of degree of freedom 12\n"
     ]
    },
    {
     "name": "stderr",
     "output_type": "stream",
     "text": [
      "100%|██████████| 300/300 [00:01<00:00, 241.89it/s]\n",
      "100%|██████████| 300/300 [00:01<00:00, 239.71it/s]\n",
      "100%|██████████| 300/300 [00:01<00:00, 256.07it/s]\n",
      "100%|██████████| 300/300 [00:01<00:00, 254.40it/s]\n",
      "100%|██████████| 300/300 [00:01<00:00, 228.65it/s]\n",
      "100%|██████████| 300/300 [00:01<00:00, 255.74it/s]\n",
      "100%|██████████| 300/300 [00:01<00:00, 243.95it/s]\n",
      "100%|██████████| 300/300 [00:01<00:00, 241.14it/s]\n",
      "100%|██████████| 300/300 [00:01<00:00, 241.32it/s]\n",
      "100%|██████████| 300/300 [00:01<00:00, 232.99it/s]\n",
      "100%|██████████| 300/300 [00:01<00:00, 250.39it/s]\n",
      "100%|██████████| 300/300 [00:01<00:00, 227.98it/s]\n",
      "100%|██████████| 300/300 [00:01<00:00, 237.06it/s]\n",
      "100%|██████████| 300/300 [00:01<00:00, 233.37it/s]\n",
      "100%|██████████| 300/300 [00:01<00:00, 232.05it/s]\n",
      "100%|██████████| 300/300 [00:01<00:00, 243.26it/s]\n",
      "100%|██████████| 300/300 [00:01<00:00, 245.66it/s]\n",
      "100%|██████████| 300/300 [00:01<00:00, 249.55it/s]\n",
      "100%|██████████| 300/300 [00:01<00:00, 230.57it/s]\n",
      "100%|██████████| 300/300 [00:01<00:00, 244.99it/s]\n",
      "100%|██████████| 300/300 [00:01<00:00, 229.23it/s]\n",
      "100%|██████████| 300/300 [00:01<00:00, 249.12it/s]\n",
      "100%|██████████| 300/300 [00:01<00:00, 263.02it/s]\n",
      "100%|██████████| 300/300 [00:01<00:00, 246.72it/s]\n",
      "100%|██████████| 300/300 [00:01<00:00, 224.72it/s]\n"
     ]
    },
    {
     "name": "stdout",
     "output_type": "stream",
     "text": [
      "\n",
      "Number of degree of freedom 13\n"
     ]
    },
    {
     "name": "stderr",
     "output_type": "stream",
     "text": [
      "100%|██████████| 300/300 [00:01<00:00, 212.30it/s]\n",
      "100%|██████████| 300/300 [00:01<00:00, 246.53it/s]\n",
      "100%|██████████| 300/300 [00:02<00:00, 148.52it/s]\n",
      "100%|██████████| 300/300 [00:01<00:00, 245.39it/s]\n",
      "100%|██████████| 300/300 [00:01<00:00, 152.49it/s]\n",
      "100%|██████████| 300/300 [00:03<00:00, 98.12it/s]\n",
      "100%|██████████| 300/300 [00:03<00:00, 98.17it/s] \n",
      "100%|██████████| 300/300 [00:02<00:00, 131.46it/s]\n",
      "100%|██████████| 300/300 [00:02<00:00, 129.81it/s]\n",
      "100%|██████████| 300/300 [00:01<00:00, 248.18it/s]\n",
      "100%|██████████| 300/300 [00:01<00:00, 216.71it/s]\n",
      "100%|██████████| 300/300 [00:01<00:00, 239.19it/s]\n",
      "100%|██████████| 300/300 [00:01<00:00, 231.20it/s]\n",
      "100%|██████████| 300/300 [00:01<00:00, 254.94it/s]\n",
      "100%|██████████| 300/300 [00:01<00:00, 255.32it/s]\n",
      "100%|██████████| 300/300 [00:01<00:00, 232.85it/s]\n",
      "100%|██████████| 300/300 [00:01<00:00, 264.23it/s]\n",
      "100%|██████████| 300/300 [00:01<00:00, 250.38it/s]\n",
      "100%|██████████| 300/300 [00:01<00:00, 238.59it/s]\n",
      "100%|██████████| 300/300 [00:01<00:00, 235.18it/s]\n",
      "100%|██████████| 300/300 [00:01<00:00, 249.10it/s]\n",
      "100%|██████████| 300/300 [00:01<00:00, 253.50it/s]\n",
      "100%|██████████| 300/300 [00:01<00:00, 241.89it/s]\n",
      "100%|██████████| 300/300 [00:01<00:00, 240.49it/s]\n",
      "100%|██████████| 300/300 [00:02<00:00, 133.05it/s]\n"
     ]
    },
    {
     "name": "stdout",
     "output_type": "stream",
     "text": [
      "\n",
      "Number of degree of freedom 14\n"
     ]
    },
    {
     "name": "stderr",
     "output_type": "stream",
     "text": [
      "100%|██████████| 300/300 [00:02<00:00, 131.93it/s]\n",
      "100%|██████████| 300/300 [00:01<00:00, 263.20it/s]\n",
      "100%|██████████| 300/300 [00:01<00:00, 172.00it/s]\n",
      "100%|██████████| 300/300 [00:01<00:00, 169.60it/s]\n",
      "100%|██████████| 300/300 [00:02<00:00, 147.21it/s]\n",
      "100%|██████████| 300/300 [00:02<00:00, 123.22it/s]\n",
      "100%|██████████| 300/300 [00:01<00:00, 222.92it/s]\n",
      "100%|██████████| 300/300 [00:01<00:00, 255.65it/s]\n",
      "100%|██████████| 300/300 [00:01<00:00, 255.02it/s]\n",
      "100%|██████████| 300/300 [00:01<00:00, 256.34it/s]\n",
      "100%|██████████| 300/300 [00:01<00:00, 240.83it/s]\n",
      "100%|██████████| 300/300 [00:02<00:00, 137.85it/s]\n",
      "100%|██████████| 300/300 [00:02<00:00, 126.29it/s]\n",
      "100%|██████████| 300/300 [00:01<00:00, 150.01it/s]\n",
      "100%|██████████| 300/300 [00:02<00:00, 119.11it/s]\n",
      "100%|██████████| 300/300 [00:01<00:00, 207.06it/s]\n",
      "100%|██████████| 300/300 [00:01<00:00, 233.56it/s]\n",
      "100%|██████████| 300/300 [00:02<00:00, 127.39it/s]\n",
      "100%|██████████| 300/300 [00:01<00:00, 158.48it/s]\n",
      "100%|██████████| 300/300 [00:01<00:00, 248.72it/s]\n",
      "100%|██████████| 300/300 [00:01<00:00, 240.02it/s]\n",
      "100%|██████████| 300/300 [00:01<00:00, 197.43it/s]\n",
      "100%|██████████| 300/300 [00:02<00:00, 106.24it/s]\n",
      "100%|██████████| 300/300 [00:01<00:00, 150.19it/s]\n",
      "100%|██████████| 300/300 [00:02<00:00, 143.50it/s]\n"
     ]
    },
    {
     "name": "stdout",
     "output_type": "stream",
     "text": [
      "\n",
      "Number of degree of freedom 15\n"
     ]
    },
    {
     "name": "stderr",
     "output_type": "stream",
     "text": [
      "100%|██████████| 300/300 [00:01<00:00, 268.64it/s]\n",
      "100%|██████████| 300/300 [00:01<00:00, 241.40it/s]\n",
      "100%|██████████| 300/300 [00:02<00:00, 143.96it/s]\n",
      "100%|██████████| 300/300 [00:02<00:00, 119.54it/s]\n",
      "100%|██████████| 300/300 [00:03<00:00, 96.45it/s] \n",
      "100%|██████████| 300/300 [00:01<00:00, 172.34it/s]\n",
      "100%|██████████| 300/300 [00:02<00:00, 136.48it/s]\n",
      "100%|██████████| 300/300 [00:03<00:00, 96.54it/s] \n",
      "100%|██████████| 300/300 [00:01<00:00, 261.49it/s]\n",
      "100%|██████████| 300/300 [00:01<00:00, 231.07it/s]\n",
      "100%|██████████| 300/300 [00:01<00:00, 222.64it/s]\n",
      "100%|██████████| 300/300 [00:01<00:00, 242.60it/s]\n",
      "100%|██████████| 300/300 [00:01<00:00, 262.50it/s]\n",
      "100%|██████████| 300/300 [00:01<00:00, 235.26it/s]\n",
      "100%|██████████| 300/300 [00:01<00:00, 241.20it/s]\n",
      "100%|██████████| 300/300 [00:01<00:00, 246.79it/s]\n",
      "100%|██████████| 300/300 [00:01<00:00, 219.76it/s]\n",
      "100%|██████████| 300/300 [00:01<00:00, 227.57it/s]\n",
      "100%|██████████| 300/300 [00:01<00:00, 269.44it/s]\n",
      "100%|██████████| 300/300 [00:01<00:00, 238.61it/s]\n",
      "100%|██████████| 300/300 [00:01<00:00, 271.53it/s]\n",
      "100%|██████████| 300/300 [00:01<00:00, 253.89it/s]\n",
      "100%|██████████| 300/300 [00:01<00:00, 251.52it/s]\n",
      "100%|██████████| 300/300 [00:01<00:00, 263.23it/s]\n",
      "100%|██████████| 300/300 [00:01<00:00, 257.88it/s]\n"
     ]
    },
    {
     "name": "stdout",
     "output_type": "stream",
     "text": [
      "\n",
      "Number of degree of freedom 16\n"
     ]
    },
    {
     "name": "stderr",
     "output_type": "stream",
     "text": [
      "100%|██████████| 300/300 [00:01<00:00, 244.08it/s]\n",
      "100%|██████████| 300/300 [00:01<00:00, 192.56it/s]\n",
      "100%|██████████| 300/300 [00:01<00:00, 229.89it/s]\n",
      "100%|██████████| 300/300 [00:01<00:00, 235.87it/s]\n",
      "100%|██████████| 300/300 [00:01<00:00, 244.58it/s]\n",
      "100%|██████████| 300/300 [00:01<00:00, 261.58it/s]\n",
      "100%|██████████| 300/300 [00:01<00:00, 230.57it/s]\n",
      "100%|██████████| 300/300 [00:01<00:00, 253.53it/s]\n",
      "100%|██████████| 300/300 [00:01<00:00, 241.01it/s]\n",
      "100%|██████████| 300/300 [00:01<00:00, 242.95it/s]\n",
      "100%|██████████| 300/300 [00:01<00:00, 244.11it/s]\n",
      "100%|██████████| 300/300 [00:01<00:00, 257.60it/s]\n",
      "100%|██████████| 300/300 [00:01<00:00, 232.99it/s]\n",
      "100%|██████████| 300/300 [00:01<00:00, 274.91it/s]\n",
      "100%|██████████| 300/300 [00:01<00:00, 249.58it/s]\n",
      "100%|██████████| 300/300 [00:01<00:00, 263.95it/s]\n",
      "100%|██████████| 300/300 [00:01<00:00, 237.89it/s]\n",
      "100%|██████████| 300/300 [00:01<00:00, 246.19it/s]\n",
      "100%|██████████| 300/300 [00:01<00:00, 232.79it/s]\n",
      "100%|██████████| 300/300 [00:01<00:00, 270.02it/s]\n",
      "100%|██████████| 300/300 [00:01<00:00, 285.55it/s]\n",
      "100%|██████████| 300/300 [00:01<00:00, 243.40it/s]\n",
      "100%|██████████| 300/300 [00:01<00:00, 265.87it/s]\n",
      "100%|██████████| 300/300 [00:01<00:00, 254.51it/s]\n",
      "100%|██████████| 300/300 [00:01<00:00, 262.11it/s]\n"
     ]
    },
    {
     "name": "stdout",
     "output_type": "stream",
     "text": [
      "\n",
      "Number of degree of freedom 17\n"
     ]
    },
    {
     "name": "stderr",
     "output_type": "stream",
     "text": [
      "100%|██████████| 300/300 [00:01<00:00, 265.54it/s]\n",
      "100%|██████████| 300/300 [00:01<00:00, 236.43it/s]\n",
      "100%|██████████| 300/300 [00:01<00:00, 230.15it/s]\n",
      "100%|██████████| 300/300 [00:01<00:00, 235.00it/s]\n",
      "100%|██████████| 300/300 [00:01<00:00, 269.77it/s]\n",
      "100%|██████████| 300/300 [00:01<00:00, 267.96it/s]\n",
      "100%|██████████| 300/300 [00:01<00:00, 267.35it/s]\n",
      "100%|██████████| 300/300 [00:01<00:00, 251.03it/s]\n",
      "100%|██████████| 300/300 [00:01<00:00, 256.66it/s]\n",
      "100%|██████████| 300/300 [00:01<00:00, 242.12it/s]\n",
      "100%|██████████| 300/300 [00:01<00:00, 230.88it/s]\n",
      "100%|██████████| 300/300 [00:01<00:00, 256.16it/s]\n",
      "100%|██████████| 300/300 [00:01<00:00, 261.91it/s]\n",
      "100%|██████████| 300/300 [00:01<00:00, 238.27it/s]\n",
      "100%|██████████| 300/300 [00:01<00:00, 250.60it/s]\n",
      "100%|██████████| 300/300 [00:01<00:00, 257.31it/s]\n",
      "100%|██████████| 300/300 [00:01<00:00, 249.65it/s]\n",
      "100%|██████████| 300/300 [00:01<00:00, 260.30it/s]\n",
      "100%|██████████| 300/300 [00:01<00:00, 259.27it/s]\n",
      "100%|██████████| 300/300 [00:01<00:00, 241.17it/s]\n",
      "100%|██████████| 300/300 [00:01<00:00, 237.65it/s]\n",
      "100%|██████████| 300/300 [00:01<00:00, 251.75it/s]\n",
      "100%|██████████| 300/300 [00:01<00:00, 227.83it/s]\n",
      "100%|██████████| 300/300 [00:01<00:00, 268.10it/s]\n",
      "100%|██████████| 300/300 [00:01<00:00, 245.72it/s]\n"
     ]
    },
    {
     "name": "stdout",
     "output_type": "stream",
     "text": [
      "\n",
      "Number of degree of freedom 18\n"
     ]
    },
    {
     "name": "stderr",
     "output_type": "stream",
     "text": [
      "100%|██████████| 300/300 [00:01<00:00, 268.88it/s]\n",
      "100%|██████████| 300/300 [00:01<00:00, 242.11it/s]\n",
      "100%|██████████| 300/300 [00:01<00:00, 273.14it/s]\n",
      "100%|██████████| 300/300 [00:01<00:00, 244.90it/s]\n",
      "100%|██████████| 300/300 [00:01<00:00, 234.32it/s]\n",
      "100%|██████████| 300/300 [00:01<00:00, 231.65it/s]\n",
      "100%|██████████| 300/300 [00:01<00:00, 247.30it/s]\n",
      "100%|██████████| 300/300 [00:01<00:00, 265.71it/s]\n",
      "100%|██████████| 300/300 [00:01<00:00, 232.50it/s]\n",
      "100%|██████████| 300/300 [00:01<00:00, 261.41it/s]\n",
      "100%|██████████| 300/300 [00:01<00:00, 233.22it/s]\n",
      "100%|██████████| 300/300 [00:01<00:00, 262.18it/s]\n",
      "100%|██████████| 300/300 [00:01<00:00, 240.14it/s]\n",
      "100%|██████████| 300/300 [00:01<00:00, 238.86it/s]\n",
      "100%|██████████| 300/300 [00:01<00:00, 246.69it/s]\n",
      "100%|██████████| 300/300 [00:01<00:00, 248.99it/s]\n",
      "100%|██████████| 300/300 [00:01<00:00, 267.89it/s]\n",
      "100%|██████████| 300/300 [00:01<00:00, 269.12it/s]\n",
      "100%|██████████| 300/300 [00:01<00:00, 254.38it/s]\n",
      "100%|██████████| 300/300 [00:01<00:00, 261.96it/s]\n",
      "100%|██████████| 300/300 [00:01<00:00, 259.77it/s]\n",
      "100%|██████████| 300/300 [00:01<00:00, 243.67it/s]\n",
      "100%|██████████| 300/300 [00:01<00:00, 232.00it/s]\n",
      "100%|██████████| 300/300 [00:01<00:00, 272.80it/s]\n",
      "100%|██████████| 300/300 [00:01<00:00, 258.11it/s]\n"
     ]
    },
    {
     "name": "stdout",
     "output_type": "stream",
     "text": [
      "\n",
      "Number of degree of freedom 19\n"
     ]
    },
    {
     "name": "stderr",
     "output_type": "stream",
     "text": [
      "100%|██████████| 300/300 [00:01<00:00, 248.31it/s]\n",
      "100%|██████████| 300/300 [00:01<00:00, 276.21it/s]\n",
      "100%|██████████| 300/300 [00:01<00:00, 245.80it/s]\n",
      "100%|██████████| 300/300 [00:01<00:00, 228.49it/s]\n",
      "100%|██████████| 300/300 [00:01<00:00, 251.40it/s]\n",
      "100%|██████████| 300/300 [00:01<00:00, 253.15it/s]\n",
      "100%|██████████| 300/300 [00:01<00:00, 268.63it/s]\n",
      "100%|██████████| 300/300 [00:01<00:00, 277.79it/s]\n",
      "100%|██████████| 300/300 [00:01<00:00, 274.87it/s]\n",
      "100%|██████████| 300/300 [00:01<00:00, 266.30it/s]\n",
      "100%|██████████| 300/300 [00:01<00:00, 261.08it/s]\n",
      "100%|██████████| 300/300 [00:01<00:00, 242.90it/s]\n",
      "100%|██████████| 300/300 [00:01<00:00, 228.64it/s]\n",
      "100%|██████████| 300/300 [00:01<00:00, 250.03it/s]\n",
      "100%|██████████| 300/300 [00:01<00:00, 267.12it/s]\n",
      "100%|██████████| 300/300 [00:01<00:00, 239.79it/s]\n",
      "100%|██████████| 300/300 [00:01<00:00, 233.04it/s]\n",
      "100%|██████████| 300/300 [00:01<00:00, 246.62it/s]\n",
      "100%|██████████| 300/300 [00:01<00:00, 272.06it/s]\n",
      "100%|██████████| 300/300 [00:01<00:00, 240.26it/s]\n",
      "100%|██████████| 300/300 [00:01<00:00, 265.20it/s]\n",
      "100%|██████████| 300/300 [00:01<00:00, 242.42it/s]\n",
      "100%|██████████| 300/300 [00:01<00:00, 249.55it/s]\n",
      "100%|██████████| 300/300 [00:01<00:00, 234.92it/s]\n",
      "100%|██████████| 300/300 [00:01<00:00, 239.03it/s]\n"
     ]
    },
    {
     "name": "stdout",
     "output_type": "stream",
     "text": [
      "\n",
      "Number of degree of freedom 20\n"
     ]
    },
    {
     "name": "stderr",
     "output_type": "stream",
     "text": [
      "100%|██████████| 300/300 [00:01<00:00, 259.11it/s]\n",
      "100%|██████████| 300/300 [00:01<00:00, 237.37it/s]\n",
      "100%|██████████| 300/300 [00:01<00:00, 249.89it/s]\n",
      "100%|██████████| 300/300 [00:01<00:00, 275.46it/s]\n",
      "100%|██████████| 300/300 [00:01<00:00, 211.33it/s]\n",
      "100%|██████████| 300/300 [00:01<00:00, 255.80it/s]\n",
      "100%|██████████| 300/300 [00:01<00:00, 260.72it/s]\n",
      "100%|██████████| 300/300 [00:01<00:00, 246.88it/s]\n",
      "100%|██████████| 300/300 [00:01<00:00, 254.40it/s]\n",
      "100%|██████████| 300/300 [00:01<00:00, 235.59it/s]\n",
      "100%|██████████| 300/300 [00:01<00:00, 247.95it/s]\n",
      "100%|██████████| 300/300 [00:01<00:00, 238.48it/s]\n",
      "100%|██████████| 300/300 [00:01<00:00, 245.86it/s]\n",
      "100%|██████████| 300/300 [00:01<00:00, 272.89it/s]\n",
      "100%|██████████| 300/300 [00:01<00:00, 254.74it/s]\n",
      "100%|██████████| 300/300 [00:01<00:00, 263.69it/s]\n",
      "100%|██████████| 300/300 [00:01<00:00, 260.00it/s]\n",
      "100%|██████████| 300/300 [00:01<00:00, 258.25it/s]\n",
      "100%|██████████| 300/300 [00:01<00:00, 255.06it/s]\n",
      "100%|██████████| 300/300 [00:01<00:00, 236.27it/s]\n",
      "100%|██████████| 300/300 [00:01<00:00, 257.10it/s]\n",
      "100%|██████████| 300/300 [00:01<00:00, 262.40it/s]\n",
      "100%|██████████| 300/300 [00:01<00:00, 244.06it/s]\n",
      "100%|██████████| 300/300 [00:01<00:00, 254.97it/s]\n",
      "100%|██████████| 300/300 [00:01<00:00, 234.58it/s]\n"
     ]
    }
   ],
   "source": [
    "# generate signal\n",
    "n_samples = 300\n",
    "n_bkps = 3\n",
    "n_dims = 1\n",
    "noise_std = 1\n",
    "seed_noise = 42\n",
    "np.random.seed(seed_noise)\n",
    "\n",
    "dic_res = {\n",
    "    'rand_pelt' : [],\n",
    "    'haus_pelt' : [],\n",
    "    'rand_pelt_bi' : [],\n",
    "    'haus_pelt_bi' : [],\n",
    "    'rand_rfpop' : [],\n",
    "    'haus_rfpop' : [],\n",
    "    }\n",
    "\n",
    "for dof in range(1,21):\n",
    "  print('\\nNumber of degree of freedom {}'.format(dof))\n",
    "  for _ in range(25):\n",
    "\n",
    "    # Generate signal\n",
    "    signal, bkps = generate_signal_t_distrib(n_samples, n_bkps, n_dims, dof)\n",
    "    d_signal = np.array([signal[i+1]-signal[i] for i in range(len(signal)-1)])\n",
    "    sigma_hat = np.median(np.abs(d_signal - np.median(d_signal)))\n",
    "    pen_bic = 2 * np.log(n_samples) * sigma_hat**2 \n",
    "    K = 3 * sigma_hat\n",
    "    # PELT\n",
    "    predicted_bkps = rpt.Pelt(custom_cost=BiweightCost(K)).fit_predict(\n",
    "        signal=signal, pen=pen_bic\n",
    "    )\n",
    "    try:\n",
    "      dic_res['haus_pelt_bi'].append(hausdorff(bkps, predicted_bkps))\n",
    "    except ValueError:\n",
    "      dic_res['haus_pelt_bi'].append(300)\n",
    "    dic_res['rand_pelt_bi'].append(eval_segmentation(bkps, predicted_bkps, signal))\n",
    "\n",
    "\n",
    "    # PELT with L2\n",
    "    predicted_bkps = rpt.Pelt(model=\"l2\", jump=1).fit_predict(\n",
    "        signal=signal, pen=pen_bic\n",
    "    )\n",
    "    try:\n",
    "      dic_res['haus_pelt'].append(hausdorff(bkps, predicted_bkps))\n",
    "    except ValueError:\n",
    "      dic_res['haus_pelt'].append(300)\n",
    "    dic_res['rand_pelt'].append(eval_segmentation(bkps, predicted_bkps, signal))\n",
    "\n",
    "    # RFPOP\n",
    "    cp,_ = rfpop(signal, pen_bic, K) \n",
    "    cp = np.array(cp)[:,1]\n",
    "    cp[np.where(cp == None)] = 0\n",
    "    predicted_bkps = np.unique(cp)[1:]\n",
    "    predicted_bkps = np.hstack((predicted_bkps,signal.shape[0]))\n",
    "\n",
    "    dic_res['haus_rfpop'].append(hausdorff(bkps, predicted_bkps))\n",
    "    dic_res['rand_rfpop'].append(eval_segmentation(bkps, predicted_bkps, signal))\n",
    "\n"
   ]
  },
  {
   "cell_type": "code",
   "execution_count": 70,
   "metadata": {
    "colab": {
     "base_uri": "https://localhost:8080/",
     "height": 299
    },
    "id": "FewMfs1wbqca",
    "outputId": "1e070d54-4c8f-4236-9192-183b6f13e355"
   },
   "outputs": [
    {
     "data": {
      "image/png": "[encoded data removed]",
      "text/plain": [
       "<Figure size 432x288 with 1 Axes>"
      ]
     },
     "metadata": {
      "needs_background": "light"
     },
     "output_type": "display_data"
    }
   ],
   "source": [
    "df = pd.DataFrame(dic_res)\n",
    "l = []\n",
    "for dof in range(1, 21):\n",
    "  for _ in range(25):\n",
    "    l.append(dof)\n",
    "df['dof'] = l\n",
    "\n",
    "sns.lineplot(data = df, x='dof', y='rand_rfpop')\n",
    "sns.lineplot(data = df, x='dof', y='rand_pelt')\n",
    "plt.title('3 breakpoints')\n",
    "plt.ylabel('Adjusted Rand score')\n",
    "plt.xlabel('Degree of freedom')\n",
    "\n",
    "plt.xscale('log')"
   ]
  },
  {
   "cell_type": "markdown",
   "metadata": {
    "id": "5L3rFDBT53tw"
   },
   "source": [
    "### Study of the Computational Cost \n",
    "\n",
    "We have a closer look in this part to the space and time complexity of the method and how the different hyperparameters influence it."
   ]
  },
  {
   "cell_type": "code",
   "execution_count": 60,
   "metadata": {
    "colab": {
     "base_uri": "https://localhost:8080/",
     "height": 401
    },
    "id": "bJ7uN1KlHwPN",
    "outputId": "a143f7ff-1cf6-421a-9347-e9ae93ac461f"
   },
   "outputs": [
    {
     "name": "stderr",
     "output_type": "stream",
     "text": [
      "100%|██████████| 300/300 [00:06<00:00, 45.20it/s]\n",
      "100%|██████████| 300/300 [00:02<00:00, 145.39it/s]\n",
      "100%|██████████| 300/300 [00:01<00:00, 228.30it/s]\n",
      "100%|██████████| 300/300 [00:01<00:00, 267.20it/s]\n",
      "100%|██████████| 300/300 [00:01<00:00, 282.82it/s]\n",
      "100%|██████████| 300/300 [00:01<00:00, 287.56it/s]\n",
      "100%|██████████| 300/300 [00:00<00:00, 328.06it/s]\n",
      "100%|██████████| 300/300 [00:00<00:00, 356.87it/s]\n",
      "100%|██████████| 300/300 [00:00<00:00, 361.54it/s]\n",
      "100%|██████████| 300/300 [00:00<00:00, 348.81it/s]\n"
     ]
    },
    {
     "data": {
      "image/png": "[encoded data removed]",
      "text/plain": [
       "<Figure size 1080x216 with 1 Axes>"
      ]
     },
     "metadata": {
      "needs_background": "light"
     },
     "output_type": "display_data"
    }
   ],
   "source": [
    "fig, ax = fig_ax()\n",
    "list_mult = np.exp(np.linspace(np.log(2), np.log(100), 10))\n",
    "for thresh in list_mult:\n",
    "    _,nb_intervals = rfpop(signal_t, 10*np.log(n_samples), thresh)\n",
    "    ax.plot(np.arange(n_samples), nb_intervals, label='thresh={}'.format(thresh))\n",
    "ax.legend()\n",
    "ax.set_yscale('log')\n",
    "plt.show()"
   ]
  },
  {
   "cell_type": "code",
   "execution_count": 64,
   "metadata": {
    "colab": {
     "base_uri": "https://localhost:8080/",
     "height": 398
    },
    "id": "DD58Fb_PMp7C",
    "outputId": "cf8ab8d0-82b6-45ec-f24b-71a1793555cf"
   },
   "outputs": [
    {
     "name": "stderr",
     "output_type": "stream",
     "text": [
      "100%|██████████| 300/300 [00:01<00:00, 161.73it/s]\n",
      "100%|██████████| 300/300 [00:01<00:00, 244.23it/s]\n",
      "100%|██████████| 300/300 [00:01<00:00, 235.61it/s]\n",
      "100%|██████████| 300/300 [00:01<00:00, 223.13it/s]\n",
      "100%|██████████| 300/300 [00:01<00:00, 199.83it/s]\n",
      "100%|██████████| 300/300 [00:01<00:00, 195.24it/s]\n",
      "100%|██████████| 300/300 [00:01<00:00, 181.53it/s]\n",
      "100%|██████████| 300/300 [00:01<00:00, 157.84it/s]\n",
      "100%|██████████| 300/300 [00:02<00:00, 131.92it/s]\n",
      "100%|██████████| 300/300 [00:03<00:00, 94.65it/s] \n"
     ]
    },
    {
     "data": {
      "image/png": "[encoded data removed]",
      "text/plain": [
       "<Figure size 1080x216 with 1 Axes>"
      ]
     },
     "metadata": {
      "needs_background": "light"
     },
     "output_type": "display_data"
    }
   ],
   "source": [
    "fig, ax = fig_ax()\n",
    "list_mult = np.exp(np.linspace(np.log(2), np.log(100), 10))\n",
    "for pen in list_mult:\n",
    "    _,nb_intervals = rfpop(signal_t, pen, 3)\n",
    "    ax.plot(np.arange(n_samples), nb_intervals, label='pen={}'.format(pen))\n",
    "ax.legend()\n",
    "plt.show()"
   ]
  },
  {
   "cell_type": "markdown",
   "metadata": {
    "id": "kZ1T3R8CYttF"
   },
   "source": [
    "From the previous graphs, we can conclude that the influence of the $\\beta$ and $K$ parameters are opposed : increasing $\\beta$ leads to an increased space and time complexity, while it is the opposite for $K$."
   ]
  },
  {
   "cell_type": "markdown",
   "metadata": {
    "id": "1VHb_EdhcoEJ"
   },
   "source": [
    "### Study of the choice of parameters on performance\n",
    "\n",
    "**WARNING** : the cells in the following section take up to several hours to run"
   ]
  },
  {
   "cell_type": "code",
   "execution_count": 79,
   "metadata": {
    "colab": {
     "base_uri": "https://localhost:8080/"
    },
    "id": "9wQXyg6jcndF",
    "outputId": "9d6f55fe-215b-4aeb-c60d-afd8b11c2a04"
   },
   "outputs": [
    {
     "name": "stdout",
     "output_type": "stream",
     "text": [
      "1 iteration out of 20\n"
     ]
    },
    {
     "name": "stderr",
     "output_type": "stream",
     "text": [
      "100%|██████████| 300/300 [00:21<00:00, 14.08it/s]\n",
      "100%|██████████| 300/300 [00:10<00:00, 29.84it/s]\n",
      "100%|██████████| 300/300 [00:04<00:00, 60.15it/s]\n",
      "100%|██████████| 300/300 [00:03<00:00, 75.55it/s]\n",
      "100%|██████████| 300/300 [00:02<00:00, 120.66it/s]\n",
      "100%|██████████| 300/300 [00:01<00:00, 166.43it/s]\n",
      "100%|██████████| 300/300 [00:01<00:00, 231.49it/s]\n",
      "100%|██████████| 300/300 [00:00<00:00, 302.91it/s]\n",
      "100%|██████████| 300/300 [00:00<00:00, 323.16it/s]\n",
      "100%|██████████| 300/300 [00:01<00:00, 261.27it/s]\n",
      "100%|██████████| 300/300 [00:00<00:00, 303.82it/s]\n",
      "100%|██████████| 300/300 [00:00<00:00, 301.84it/s]\n",
      "100%|██████████| 300/300 [00:01<00:00, 297.17it/s]\n",
      "100%|██████████| 300/300 [00:00<00:00, 309.12it/s]\n",
      "100%|██████████| 300/300 [00:00<00:00, 323.04it/s]\n",
      "100%|██████████| 300/300 [00:00<00:00, 317.20it/s]\n",
      "100%|██████████| 300/300 [00:00<00:00, 378.67it/s]\n",
      "100%|██████████| 300/300 [00:00<00:00, 420.72it/s]\n",
      "100%|██████████| 300/300 [00:00<00:00, 419.27it/s]\n",
      "100%|██████████| 300/300 [00:00<00:00, 416.75it/s]\n"
     ]
    },
    {
     "name": "stdout",
     "output_type": "stream",
     "text": [
      "2 iteration out of 20\n"
     ]
    },
    {
     "name": "stderr",
     "output_type": "stream",
     "text": [
      "100%|██████████| 300/300 [00:29<00:00, 10.14it/s]\n",
      "100%|██████████| 300/300 [00:12<00:00, 24.99it/s]\n",
      "100%|██████████| 300/300 [00:05<00:00, 50.95it/s]\n",
      "100%|██████████| 300/300 [00:04<00:00, 63.37it/s]\n",
      "100%|██████████| 300/300 [00:02<00:00, 102.78it/s]\n",
      "100%|██████████| 300/300 [00:01<00:00, 159.89it/s]\n",
      "100%|██████████| 300/300 [00:01<00:00, 204.34it/s]\n",
      "100%|██████████| 300/300 [00:01<00:00, 257.31it/s]\n",
      "100%|██████████| 300/300 [00:01<00:00, 299.50it/s]\n",
      "100%|██████████| 300/300 [00:01<00:00, 298.78it/s]\n",
      "100%|██████████| 300/300 [00:01<00:00, 289.11it/s]\n",
      "100%|██████████| 300/300 [00:00<00:00, 306.53it/s]\n",
      "100%|██████████| 300/300 [00:00<00:00, 308.39it/s]\n",
      "100%|██████████| 300/300 [00:00<00:00, 309.47it/s]\n",
      "100%|██████████| 300/300 [00:00<00:00, 307.87it/s]\n",
      "100%|██████████| 300/300 [00:00<00:00, 345.78it/s]\n",
      "100%|██████████| 300/300 [00:00<00:00, 353.23it/s]\n",
      "100%|██████████| 300/300 [00:00<00:00, 403.49it/s]\n",
      "100%|██████████| 300/300 [00:00<00:00, 416.55it/s]\n",
      "100%|██████████| 300/300 [00:00<00:00, 338.28it/s]\n"
     ]
    },
    {
     "name": "stdout",
     "output_type": "stream",
     "text": [
      "3 iteration out of 20\n"
     ]
    },
    {
     "name": "stderr",
     "output_type": "stream",
     "text": [
      "100%|██████████| 300/300 [00:31<00:00,  9.55it/s]\n",
      "100%|██████████| 300/300 [00:23<00:00, 12.69it/s]\n",
      "100%|██████████| 300/300 [00:08<00:00, 34.02it/s]\n",
      "100%|██████████| 300/300 [00:05<00:00, 56.04it/s]\n",
      "100%|██████████| 300/300 [00:03<00:00, 92.49it/s] \n",
      "100%|██████████| 300/300 [00:02<00:00, 129.26it/s]\n",
      "100%|██████████| 300/300 [00:01<00:00, 173.22it/s]\n",
      "100%|██████████| 300/300 [00:01<00:00, 215.12it/s]\n",
      "100%|██████████| 300/300 [00:00<00:00, 309.11it/s]\n",
      "100%|██████████| 300/300 [00:01<00:00, 290.12it/s]\n",
      "100%|██████████| 300/300 [00:01<00:00, 299.66it/s]\n",
      "100%|██████████| 300/300 [00:00<00:00, 300.23it/s]\n",
      "100%|██████████| 300/300 [00:01<00:00, 293.19it/s]\n",
      "100%|██████████| 300/300 [00:01<00:00, 258.65it/s]\n",
      "100%|██████████| 300/300 [00:00<00:00, 307.78it/s]\n",
      "100%|██████████| 300/300 [00:00<00:00, 308.34it/s]\n",
      "100%|██████████| 300/300 [00:00<00:00, 312.92it/s]\n",
      "100%|██████████| 300/300 [00:00<00:00, 423.36it/s]\n",
      "100%|██████████| 300/300 [00:00<00:00, 345.50it/s]\n",
      "100%|██████████| 300/300 [00:00<00:00, 404.01it/s]\n"
     ]
    },
    {
     "name": "stdout",
     "output_type": "stream",
     "text": [
      "4 iteration out of 20\n"
     ]
    },
    {
     "name": "stderr",
     "output_type": "stream",
     "text": [
      "100%|██████████| 300/300 [00:32<00:00,  9.18it/s]\n",
      "100%|██████████| 300/300 [00:26<00:00, 11.20it/s]\n",
      "100%|██████████| 300/300 [00:18<00:00, 16.55it/s]\n",
      "100%|██████████| 300/300 [00:08<00:00, 37.39it/s]\n",
      "100%|██████████| 300/300 [00:05<00:00, 55.85it/s]\n",
      "100%|██████████| 300/300 [00:02<00:00, 134.00it/s]\n",
      "100%|██████████| 300/300 [00:01<00:00, 166.22it/s]\n",
      "100%|██████████| 300/300 [00:01<00:00, 215.10it/s]\n",
      "100%|██████████| 300/300 [00:01<00:00, 230.02it/s]\n",
      "100%|██████████| 300/300 [00:01<00:00, 289.45it/s]\n",
      "100%|██████████| 300/300 [00:01<00:00, 284.18it/s]\n",
      "100%|██████████| 300/300 [00:01<00:00, 297.56it/s]\n",
      "100%|██████████| 300/300 [00:01<00:00, 291.10it/s]\n",
      "100%|██████████| 300/300 [00:01<00:00, 285.48it/s]\n",
      "100%|██████████| 300/300 [00:01<00:00, 275.48it/s]\n",
      "100%|██████████| 300/300 [00:01<00:00, 289.80it/s]\n",
      "100%|██████████| 300/300 [00:00<00:00, 334.37it/s]\n",
      "100%|██████████| 300/300 [00:00<00:00, 402.65it/s]\n",
      "100%|██████████| 300/300 [00:00<00:00, 384.55it/s]\n",
      "100%|██████████| 300/300 [00:00<00:00, 377.83it/s]\n"
     ]
    },
    {
     "name": "stdout",
     "output_type": "stream",
     "text": [
      "5 iteration out of 20\n"
     ]
    },
    {
     "name": "stderr",
     "output_type": "stream",
     "text": [
      "100%|██████████| 300/300 [00:33<00:00,  8.98it/s]\n",
      "100%|██████████| 300/300 [00:30<00:00,  9.92it/s]\n",
      "100%|██████████| 300/300 [00:15<00:00, 19.50it/s]\n",
      "100%|██████████| 300/300 [00:07<00:00, 41.97it/s]\n",
      "100%|██████████| 300/300 [00:04<00:00, 68.94it/s]\n",
      "100%|██████████| 300/300 [00:02<00:00, 113.30it/s]\n",
      "100%|██████████| 300/300 [00:02<00:00, 130.72it/s]\n",
      "100%|██████████| 300/300 [00:01<00:00, 197.59it/s]\n",
      "100%|██████████| 300/300 [00:01<00:00, 236.21it/s]\n",
      "100%|██████████| 300/300 [00:01<00:00, 279.60it/s]\n",
      "100%|██████████| 300/300 [00:01<00:00, 273.17it/s]\n",
      "100%|██████████| 300/300 [00:01<00:00, 286.43it/s]\n",
      "100%|██████████| 300/300 [00:01<00:00, 286.92it/s]\n",
      "100%|██████████| 300/300 [00:00<00:00, 310.18it/s]\n",
      "100%|██████████| 300/300 [00:01<00:00, 280.49it/s]\n",
      "100%|██████████| 300/300 [00:00<00:00, 313.97it/s]\n",
      "100%|██████████| 300/300 [00:00<00:00, 352.72it/s]\n",
      "100%|██████████| 300/300 [00:00<00:00, 390.63it/s]\n",
      "100%|██████████| 300/300 [00:00<00:00, 320.58it/s]\n",
      "100%|██████████| 300/300 [00:00<00:00, 379.16it/s]\n"
     ]
    },
    {
     "name": "stdout",
     "output_type": "stream",
     "text": [
      "6 iteration out of 20\n"
     ]
    },
    {
     "name": "stderr",
     "output_type": "stream",
     "text": [
      "100%|██████████| 300/300 [00:32<00:00,  9.24it/s]\n",
      "100%|██████████| 300/300 [00:32<00:00,  9.18it/s]\n",
      "100%|██████████| 300/300 [00:23<00:00, 12.51it/s]\n",
      "100%|██████████| 300/300 [00:07<00:00, 37.96it/s]\n",
      "100%|██████████| 300/300 [00:04<00:00, 71.53it/s]\n",
      "100%|██████████| 300/300 [00:03<00:00, 91.24it/s] \n",
      "100%|██████████| 300/300 [00:02<00:00, 137.49it/s]\n",
      "100%|██████████| 300/300 [00:01<00:00, 166.98it/s]\n",
      "100%|██████████| 300/300 [00:01<00:00, 221.98it/s]\n",
      "100%|██████████| 300/300 [00:01<00:00, 231.05it/s]\n",
      "100%|██████████| 300/300 [00:01<00:00, 286.14it/s]\n",
      "100%|██████████| 300/300 [00:01<00:00, 284.06it/s]\n",
      "100%|██████████| 300/300 [00:01<00:00, 277.48it/s]\n",
      "100%|██████████| 300/300 [00:01<00:00, 284.32it/s]\n",
      "100%|██████████| 300/300 [00:01<00:00, 261.93it/s]\n",
      "100%|██████████| 300/300 [00:00<00:00, 307.74it/s]\n",
      "100%|██████████| 300/300 [00:00<00:00, 306.46it/s]\n",
      "100%|██████████| 300/300 [00:00<00:00, 301.05it/s]\n",
      "100%|██████████| 300/300 [00:00<00:00, 319.65it/s]\n",
      "100%|██████████| 300/300 [00:00<00:00, 368.68it/s]\n"
     ]
    },
    {
     "name": "stdout",
     "output_type": "stream",
     "text": [
      "7 iteration out of 20\n"
     ]
    },
    {
     "name": "stderr",
     "output_type": "stream",
     "text": [
      "100%|██████████| 300/300 [00:32<00:00,  9.16it/s]\n",
      "100%|██████████| 300/300 [00:31<00:00,  9.40it/s]\n",
      "100%|██████████| 300/300 [00:27<00:00, 11.03it/s]\n",
      "100%|██████████| 300/300 [00:11<00:00, 25.24it/s]\n",
      "100%|██████████| 300/300 [00:05<00:00, 58.06it/s]\n",
      "100%|██████████| 300/300 [00:03<00:00, 84.71it/s]\n",
      "100%|██████████| 300/300 [00:02<00:00, 137.01it/s]\n",
      "100%|██████████| 300/300 [00:01<00:00, 167.16it/s]\n",
      "100%|██████████| 300/300 [00:01<00:00, 203.24it/s]\n",
      "100%|██████████| 300/300 [00:01<00:00, 212.56it/s]\n",
      "100%|██████████| 300/300 [00:01<00:00, 270.77it/s]\n",
      "100%|██████████| 300/300 [00:01<00:00, 290.03it/s]\n",
      "100%|██████████| 300/300 [00:01<00:00, 281.71it/s]\n",
      "100%|██████████| 300/300 [00:01<00:00, 267.71it/s]\n",
      "100%|██████████| 300/300 [00:01<00:00, 285.81it/s]\n",
      "100%|██████████| 300/300 [00:00<00:00, 318.72it/s]\n",
      "100%|██████████| 300/300 [00:00<00:00, 311.52it/s]\n",
      "100%|██████████| 300/300 [00:00<00:00, 326.78it/s]\n",
      "100%|██████████| 300/300 [00:00<00:00, 316.31it/s]\n",
      "100%|██████████| 300/300 [00:00<00:00, 360.45it/s]\n"
     ]
    },
    {
     "name": "stdout",
     "output_type": "stream",
     "text": [
      "8 iteration out of 20\n"
     ]
    },
    {
     "name": "stderr",
     "output_type": "stream",
     "text": [
      "100%|██████████| 300/300 [00:31<00:00,  9.39it/s]\n",
      "100%|██████████| 300/300 [00:32<00:00,  9.22it/s]\n",
      "100%|██████████| 300/300 [00:27<00:00, 10.81it/s]\n",
      "100%|██████████| 300/300 [00:13<00:00, 22.90it/s]\n",
      "100%|██████████| 300/300 [00:08<00:00, 36.85it/s]\n",
      "100%|██████████| 300/300 [00:03<00:00, 79.92it/s]\n",
      "100%|██████████| 300/300 [00:02<00:00, 132.30it/s]\n",
      "100%|██████████| 300/300 [00:01<00:00, 166.15it/s]\n",
      "100%|██████████| 300/300 [00:01<00:00, 195.32it/s]\n",
      "100%|██████████| 300/300 [00:01<00:00, 214.92it/s]\n",
      "100%|██████████| 300/300 [00:01<00:00, 236.24it/s]\n",
      "100%|██████████| 300/300 [00:01<00:00, 277.63it/s]\n",
      "100%|██████████| 300/300 [00:01<00:00, 268.24it/s]\n",
      "100%|██████████| 300/300 [00:01<00:00, 293.67it/s]\n",
      "100%|██████████| 300/300 [00:00<00:00, 312.09it/s]\n",
      "100%|██████████| 300/300 [00:00<00:00, 328.51it/s]\n",
      "100%|██████████| 300/300 [00:00<00:00, 304.86it/s]\n",
      "100%|██████████| 300/300 [00:00<00:00, 311.67it/s]\n",
      "100%|██████████| 300/300 [00:00<00:00, 355.68it/s]\n",
      "100%|██████████| 300/300 [00:00<00:00, 351.06it/s]\n"
     ]
    },
    {
     "name": "stdout",
     "output_type": "stream",
     "text": [
      "9 iteration out of 20\n"
     ]
    },
    {
     "name": "stderr",
     "output_type": "stream",
     "text": [
      "100%|██████████| 300/300 [00:32<00:00,  9.19it/s]\n",
      "100%|██████████| 300/300 [00:31<00:00,  9.52it/s]\n",
      "100%|██████████| 300/300 [00:32<00:00,  9.22it/s]\n",
      "100%|██████████| 300/300 [00:17<00:00, 17.52it/s]\n",
      "100%|██████████| 300/300 [00:08<00:00, 36.51it/s]\n",
      "100%|██████████| 300/300 [00:03<00:00, 79.84it/s]\n",
      "100%|██████████| 300/300 [00:02<00:00, 110.21it/s]\n",
      "100%|██████████| 300/300 [00:01<00:00, 173.33it/s]\n",
      "100%|██████████| 300/300 [00:01<00:00, 198.24it/s]\n",
      "100%|██████████| 300/300 [00:01<00:00, 237.52it/s]\n",
      "100%|██████████| 300/300 [00:01<00:00, 242.13it/s]\n",
      "100%|██████████| 300/300 [00:01<00:00, 269.28it/s]\n",
      "100%|██████████| 300/300 [00:01<00:00, 286.43it/s]\n",
      "100%|██████████| 300/300 [00:01<00:00, 292.12it/s]\n",
      "100%|██████████| 300/300 [00:01<00:00, 254.94it/s]\n",
      "100%|██████████| 300/300 [00:01<00:00, 253.66it/s]\n",
      "100%|██████████| 300/300 [00:00<00:00, 310.23it/s]\n",
      "100%|██████████| 300/300 [00:00<00:00, 321.87it/s]\n",
      "100%|██████████| 300/300 [00:00<00:00, 358.60it/s]\n",
      "100%|██████████| 300/300 [00:00<00:00, 357.76it/s]\n"
     ]
    },
    {
     "name": "stdout",
     "output_type": "stream",
     "text": [
      "10 iteration out of 20\n"
     ]
    },
    {
     "name": "stderr",
     "output_type": "stream",
     "text": [
      "100%|██████████| 300/300 [00:32<00:00,  9.13it/s]\n",
      "100%|██████████| 300/300 [00:33<00:00,  8.92it/s]\n",
      "100%|██████████| 300/300 [00:31<00:00,  9.60it/s]\n",
      "100%|██████████| 300/300 [00:27<00:00, 10.97it/s]\n",
      "100%|██████████| 300/300 [00:12<00:00, 23.84it/s]\n",
      "100%|██████████| 300/300 [00:06<00:00, 48.50it/s]\n",
      "100%|██████████| 300/300 [00:03<00:00, 86.57it/s]\n",
      "100%|██████████| 300/300 [00:01<00:00, 163.15it/s]\n",
      "100%|██████████| 300/300 [00:01<00:00, 204.32it/s]\n",
      "100%|██████████| 300/300 [00:01<00:00, 228.92it/s]\n",
      "100%|██████████| 300/300 [00:01<00:00, 226.12it/s]\n",
      "100%|██████████| 300/300 [00:01<00:00, 243.08it/s]\n",
      "100%|██████████| 300/300 [00:01<00:00, 265.38it/s]\n",
      "100%|██████████| 300/300 [00:01<00:00, 286.87it/s]\n",
      "100%|██████████| 300/300 [00:01<00:00, 291.41it/s]\n",
      "100%|██████████| 300/300 [00:01<00:00, 295.63it/s]\n",
      "100%|██████████| 300/300 [00:00<00:00, 346.75it/s]\n",
      "100%|██████████| 300/300 [00:01<00:00, 288.37it/s]\n",
      "100%|██████████| 300/300 [00:00<00:00, 353.90it/s]\n",
      "100%|██████████| 300/300 [00:00<00:00, 383.65it/s]\n"
     ]
    },
    {
     "name": "stdout",
     "output_type": "stream",
     "text": [
      "11 iteration out of 20\n"
     ]
    },
    {
     "name": "stderr",
     "output_type": "stream",
     "text": [
      "100%|██████████| 300/300 [00:32<00:00,  9.27it/s]\n",
      "100%|██████████| 300/300 [00:32<00:00,  9.37it/s]\n",
      "100%|██████████| 300/300 [00:31<00:00,  9.39it/s]\n",
      "100%|██████████| 300/300 [00:28<00:00, 10.64it/s]\n",
      "100%|██████████| 300/300 [00:14<00:00, 20.04it/s]\n",
      "100%|██████████| 300/300 [00:06<00:00, 46.64it/s]\n",
      "100%|██████████| 300/300 [00:03<00:00, 77.79it/s]\n",
      "100%|██████████| 300/300 [00:02<00:00, 113.55it/s]\n",
      "100%|██████████| 300/300 [00:01<00:00, 192.67it/s]\n",
      "100%|██████████| 300/300 [00:01<00:00, 197.66it/s]\n",
      "100%|██████████| 300/300 [00:01<00:00, 227.91it/s]\n",
      "100%|██████████| 300/300 [00:01<00:00, 257.05it/s]\n",
      "100%|██████████| 300/300 [00:01<00:00, 267.65it/s]\n",
      "100%|██████████| 300/300 [00:01<00:00, 272.35it/s]\n",
      "100%|██████████| 300/300 [00:01<00:00, 264.02it/s]\n",
      "100%|██████████| 300/300 [00:00<00:00, 323.67it/s]\n",
      "100%|██████████| 300/300 [00:00<00:00, 301.51it/s]\n",
      "100%|██████████| 300/300 [00:00<00:00, 375.69it/s]\n",
      "100%|██████████| 300/300 [00:00<00:00, 323.40it/s]\n",
      "100%|██████████| 300/300 [00:00<00:00, 376.19it/s]\n"
     ]
    },
    {
     "name": "stdout",
     "output_type": "stream",
     "text": [
      "12 iteration out of 20\n"
     ]
    },
    {
     "name": "stderr",
     "output_type": "stream",
     "text": [
      "100%|██████████| 300/300 [00:32<00:00,  9.22it/s]\n",
      "100%|██████████| 300/300 [00:31<00:00,  9.47it/s]\n",
      "100%|██████████| 300/300 [00:30<00:00,  9.70it/s]\n",
      "100%|██████████| 300/300 [00:31<00:00,  9.67it/s]\n",
      "100%|██████████| 300/300 [00:23<00:00, 12.75it/s]\n",
      "100%|██████████| 300/300 [00:07<00:00, 39.15it/s]\n",
      "100%|██████████| 300/300 [00:04<00:00, 69.12it/s]\n",
      "100%|██████████| 300/300 [00:02<00:00, 106.32it/s]\n",
      "100%|██████████| 300/300 [00:01<00:00, 152.29it/s]\n",
      "100%|██████████| 300/300 [00:01<00:00, 178.26it/s]\n",
      "100%|██████████| 300/300 [00:01<00:00, 242.10it/s]\n",
      "100%|██████████| 300/300 [00:01<00:00, 244.41it/s]\n",
      "100%|██████████| 300/300 [00:01<00:00, 262.84it/s]\n",
      "100%|██████████| 300/300 [00:01<00:00, 262.48it/s]\n",
      "100%|██████████| 300/300 [00:01<00:00, 270.27it/s]\n",
      "100%|██████████| 300/300 [00:00<00:00, 304.04it/s]\n",
      "100%|██████████| 300/300 [00:01<00:00, 294.94it/s]\n",
      "100%|██████████| 300/300 [00:00<00:00, 323.65it/s]\n",
      "100%|██████████| 300/300 [00:01<00:00, 283.68it/s]\n",
      "100%|██████████| 300/300 [00:00<00:00, 325.90it/s]\n"
     ]
    },
    {
     "name": "stdout",
     "output_type": "stream",
     "text": [
      "13 iteration out of 20\n"
     ]
    },
    {
     "name": "stderr",
     "output_type": "stream",
     "text": [
      "100%|██████████| 300/300 [00:31<00:00,  9.40it/s]\n",
      "100%|██████████| 300/300 [00:32<00:00,  9.35it/s]\n",
      "100%|██████████| 300/300 [00:31<00:00,  9.44it/s]\n",
      "100%|██████████| 300/300 [00:31<00:00,  9.43it/s]\n",
      "100%|██████████| 300/300 [00:26<00:00, 11.23it/s]\n",
      "100%|██████████| 300/300 [00:12<00:00, 23.90it/s]\n",
      "100%|██████████| 300/300 [00:05<00:00, 55.71it/s]\n",
      "100%|██████████| 300/300 [00:02<00:00, 106.29it/s]\n",
      "100%|██████████| 300/300 [00:01<00:00, 160.27it/s]\n",
      "100%|██████████| 300/300 [00:01<00:00, 212.62it/s]\n",
      "100%|██████████| 300/300 [00:01<00:00, 219.38it/s]\n",
      "100%|██████████| 300/300 [00:01<00:00, 234.88it/s]\n",
      "100%|██████████| 300/300 [00:01<00:00, 248.87it/s]\n",
      "100%|██████████| 300/300 [00:01<00:00, 280.05it/s]\n",
      "100%|██████████| 300/300 [00:00<00:00, 308.49it/s]\n",
      "100%|██████████| 300/300 [00:00<00:00, 314.87it/s]\n",
      "100%|██████████| 300/300 [00:01<00:00, 276.50it/s]\n",
      "100%|██████████| 300/300 [00:01<00:00, 296.68it/s]\n",
      "100%|██████████| 300/300 [00:00<00:00, 356.05it/s]\n",
      "100%|██████████| 300/300 [00:00<00:00, 362.89it/s]\n"
     ]
    },
    {
     "name": "stdout",
     "output_type": "stream",
     "text": [
      "14 iteration out of 20\n"
     ]
    },
    {
     "name": "stderr",
     "output_type": "stream",
     "text": [
      "100%|██████████| 300/300 [00:32<00:00,  9.17it/s]\n",
      "100%|██████████| 300/300 [00:32<00:00,  9.21it/s]\n",
      "100%|██████████| 300/300 [00:31<00:00,  9.53it/s]\n",
      "100%|██████████| 300/300 [00:30<00:00,  9.82it/s]\n",
      "100%|██████████| 300/300 [00:30<00:00,  9.90it/s]\n",
      "100%|██████████| 300/300 [00:18<00:00, 16.38it/s]\n",
      "100%|██████████| 300/300 [00:06<00:00, 46.12it/s]\n",
      "100%|██████████| 300/300 [00:04<00:00, 74.86it/s]\n",
      "100%|██████████| 300/300 [00:02<00:00, 139.67it/s]\n",
      "100%|██████████| 300/300 [00:01<00:00, 177.71it/s]\n",
      "100%|██████████| 300/300 [00:01<00:00, 215.69it/s]\n",
      "100%|██████████| 300/300 [00:01<00:00, 258.70it/s]\n",
      "100%|██████████| 300/300 [00:01<00:00, 236.59it/s]\n",
      "100%|██████████| 300/300 [00:01<00:00, 237.75it/s]\n",
      "100%|██████████| 300/300 [00:01<00:00, 290.30it/s]\n",
      "100%|██████████| 300/300 [00:01<00:00, 259.59it/s]\n",
      "100%|██████████| 300/300 [00:01<00:00, 294.88it/s]\n",
      "100%|██████████| 300/300 [00:01<00:00, 290.98it/s]\n",
      "100%|██████████| 300/300 [00:00<00:00, 375.71it/s]\n",
      "100%|██████████| 300/300 [00:00<00:00, 371.76it/s]\n"
     ]
    },
    {
     "name": "stdout",
     "output_type": "stream",
     "text": [
      "15 iteration out of 20\n"
     ]
    },
    {
     "name": "stderr",
     "output_type": "stream",
     "text": [
      "100%|██████████| 300/300 [00:32<00:00,  9.20it/s]\n",
      "100%|██████████| 300/300 [00:31<00:00,  9.59it/s]\n",
      "100%|██████████| 300/300 [00:31<00:00,  9.54it/s]\n",
      "100%|██████████| 300/300 [00:30<00:00,  9.71it/s]\n",
      "100%|██████████| 300/300 [00:31<00:00,  9.59it/s]\n",
      "100%|██████████| 300/300 [00:22<00:00, 13.58it/s]\n",
      "100%|██████████| 300/300 [00:10<00:00, 29.73it/s]\n",
      "100%|██████████| 300/300 [00:03<00:00, 75.01it/s]\n",
      "100%|██████████| 300/300 [00:02<00:00, 116.32it/s]\n",
      "100%|██████████| 300/300 [00:01<00:00, 178.54it/s]\n",
      "100%|██████████| 300/300 [00:01<00:00, 238.49it/s]\n",
      "100%|██████████| 300/300 [00:01<00:00, 232.66it/s]\n",
      "100%|██████████| 300/300 [00:01<00:00, 242.57it/s]\n",
      "100%|██████████| 300/300 [00:01<00:00, 272.75it/s]\n",
      "100%|██████████| 300/300 [00:01<00:00, 282.98it/s]\n",
      "100%|██████████| 300/300 [00:01<00:00, 284.15it/s]\n",
      "100%|██████████| 300/300 [00:01<00:00, 278.35it/s]\n",
      "100%|██████████| 300/300 [00:00<00:00, 300.62it/s]\n",
      "100%|██████████| 300/300 [00:00<00:00, 383.91it/s]\n",
      "100%|██████████| 300/300 [00:00<00:00, 359.78it/s]\n"
     ]
    },
    {
     "name": "stdout",
     "output_type": "stream",
     "text": [
      "16 iteration out of 20\n"
     ]
    },
    {
     "name": "stderr",
     "output_type": "stream",
     "text": [
      "100%|██████████| 300/300 [00:32<00:00,  9.36it/s]\n",
      "100%|██████████| 300/300 [00:32<00:00,  9.32it/s]\n",
      "100%|██████████| 300/300 [00:31<00:00,  9.60it/s]\n",
      "100%|██████████| 300/300 [00:31<00:00,  9.47it/s]\n",
      "100%|██████████| 300/300 [00:31<00:00,  9.65it/s]\n",
      "100%|██████████| 300/300 [00:28<00:00, 10.61it/s]\n",
      "100%|██████████| 300/300 [00:13<00:00, 23.07it/s]\n",
      "100%|██████████| 300/300 [00:06<00:00, 46.10it/s]\n",
      "100%|██████████| 300/300 [00:02<00:00, 113.56it/s]\n",
      "100%|██████████| 300/300 [00:02<00:00, 143.82it/s]\n",
      "100%|██████████| 300/300 [00:01<00:00, 231.15it/s]\n",
      "100%|██████████| 300/300 [00:01<00:00, 231.71it/s]\n",
      "100%|██████████| 300/300 [00:01<00:00, 258.63it/s]\n",
      "100%|██████████| 300/300 [00:01<00:00, 253.00it/s]\n",
      "100%|██████████| 300/300 [00:01<00:00, 290.94it/s]\n",
      "100%|██████████| 300/300 [00:01<00:00, 295.59it/s]\n",
      "100%|██████████| 300/300 [00:00<00:00, 306.21it/s]\n",
      "100%|██████████| 300/300 [00:00<00:00, 355.16it/s]\n",
      "100%|██████████| 300/300 [00:00<00:00, 352.15it/s]\n",
      "100%|██████████| 300/300 [00:00<00:00, 387.73it/s]\n"
     ]
    },
    {
     "name": "stdout",
     "output_type": "stream",
     "text": [
      "17 iteration out of 20\n"
     ]
    },
    {
     "name": "stderr",
     "output_type": "stream",
     "text": [
      "100%|██████████| 300/300 [00:33<00:00,  9.05it/s]\n",
      "100%|██████████| 300/300 [00:31<00:00,  9.43it/s]\n",
      "100%|██████████| 300/300 [00:31<00:00,  9.61it/s]\n",
      "100%|██████████| 300/300 [00:31<00:00,  9.64it/s]\n",
      "100%|██████████| 300/300 [00:30<00:00,  9.74it/s]\n",
      "100%|██████████| 300/300 [00:30<00:00,  9.83it/s]\n",
      "100%|██████████| 300/300 [00:17<00:00, 17.02it/s]\n",
      "100%|██████████| 300/300 [00:07<00:00, 38.46it/s]\n",
      "100%|██████████| 300/300 [00:03<00:00, 76.25it/s]\n",
      "100%|██████████| 300/300 [00:01<00:00, 150.60it/s]\n",
      "100%|██████████| 300/300 [00:01<00:00, 183.14it/s]\n",
      "100%|██████████| 300/300 [00:01<00:00, 216.29it/s]\n",
      "100%|██████████| 300/300 [00:01<00:00, 246.87it/s]\n",
      "100%|██████████| 300/300 [00:01<00:00, 245.75it/s]\n",
      "100%|██████████| 300/300 [00:01<00:00, 245.01it/s]\n",
      "100%|██████████| 300/300 [00:01<00:00, 292.12it/s]\n",
      "100%|██████████| 300/300 [00:00<00:00, 305.56it/s]\n",
      "100%|██████████| 300/300 [00:00<00:00, 354.69it/s]\n",
      "100%|██████████| 300/300 [00:00<00:00, 313.10it/s]\n",
      "100%|██████████| 300/300 [00:00<00:00, 342.60it/s]\n"
     ]
    },
    {
     "name": "stdout",
     "output_type": "stream",
     "text": [
      "18 iteration out of 20\n"
     ]
    },
    {
     "name": "stderr",
     "output_type": "stream",
     "text": [
      "100%|██████████| 300/300 [00:32<00:00,  9.19it/s]\n",
      "100%|██████████| 300/300 [00:32<00:00,  9.25it/s]\n",
      "100%|██████████| 300/300 [00:31<00:00,  9.56it/s]\n",
      "100%|██████████| 300/300 [00:30<00:00,  9.73it/s]\n",
      "100%|██████████| 300/300 [00:30<00:00,  9.78it/s]\n",
      "100%|██████████| 300/300 [00:30<00:00,  9.85it/s]\n",
      "100%|██████████| 300/300 [00:23<00:00, 12.88it/s]\n",
      "100%|██████████| 300/300 [00:11<00:00, 27.18it/s]\n",
      "100%|██████████| 300/300 [00:04<00:00, 61.63it/s]\n",
      "100%|██████████| 300/300 [00:02<00:00, 113.56it/s]\n",
      "100%|██████████| 300/300 [00:01<00:00, 174.67it/s]\n",
      "100%|██████████| 300/300 [00:01<00:00, 209.68it/s]\n",
      "100%|██████████| 300/300 [00:01<00:00, 247.26it/s]\n",
      "100%|██████████| 300/300 [00:01<00:00, 248.88it/s]\n",
      "100%|██████████| 300/300 [00:01<00:00, 274.41it/s]\n",
      "100%|██████████| 300/300 [00:01<00:00, 277.62it/s]\n",
      "100%|██████████| 300/300 [00:00<00:00, 306.01it/s]\n",
      "100%|██████████| 300/300 [00:00<00:00, 341.38it/s]\n",
      "100%|██████████| 300/300 [00:00<00:00, 380.99it/s]\n",
      "100%|██████████| 300/300 [00:00<00:00, 303.29it/s]\n"
     ]
    },
    {
     "name": "stdout",
     "output_type": "stream",
     "text": [
      "19 iteration out of 20\n"
     ]
    },
    {
     "name": "stderr",
     "output_type": "stream",
     "text": [
      "100%|██████████| 300/300 [00:31<00:00,  9.39it/s]\n",
      "100%|██████████| 300/300 [00:31<00:00,  9.50it/s]\n",
      "100%|██████████| 300/300 [00:31<00:00,  9.43it/s]\n",
      "100%|██████████| 300/300 [00:31<00:00,  9.40it/s]\n",
      "100%|██████████| 300/300 [00:30<00:00,  9.88it/s]\n",
      "100%|██████████| 300/300 [00:29<00:00, 10.10it/s]\n",
      "100%|██████████| 300/300 [00:28<00:00, 10.67it/s]\n",
      "100%|██████████| 300/300 [00:15<00:00, 19.16it/s]\n",
      "100%|██████████| 300/300 [00:06<00:00, 43.54it/s]\n",
      "100%|██████████| 300/300 [00:02<00:00, 102.13it/s]\n",
      "100%|██████████| 300/300 [00:01<00:00, 164.81it/s]\n",
      "100%|██████████| 300/300 [00:01<00:00, 229.09it/s]\n",
      "100%|██████████| 300/300 [00:01<00:00, 231.46it/s]\n",
      "100%|██████████| 300/300 [00:01<00:00, 258.71it/s]\n",
      "100%|██████████| 300/300 [00:01<00:00, 298.05it/s]\n",
      "100%|██████████| 300/300 [00:01<00:00, 267.90it/s]\n",
      "100%|██████████| 300/300 [00:00<00:00, 352.50it/s]\n",
      "100%|██████████| 300/300 [00:00<00:00, 354.25it/s]\n",
      "100%|██████████| 300/300 [00:01<00:00, 292.42it/s]\n",
      "100%|██████████| 300/300 [00:00<00:00, 395.73it/s]\n"
     ]
    },
    {
     "name": "stdout",
     "output_type": "stream",
     "text": [
      "20 iteration out of 20\n"
     ]
    },
    {
     "name": "stderr",
     "output_type": "stream",
     "text": [
      "100%|██████████| 300/300 [00:32<00:00,  9.36it/s]\n",
      "100%|██████████| 300/300 [00:31<00:00,  9.64it/s]\n",
      "100%|██████████| 300/300 [00:31<00:00,  9.61it/s]\n",
      "100%|██████████| 300/300 [00:30<00:00,  9.75it/s]\n",
      "100%|██████████| 300/300 [00:30<00:00,  9.76it/s]\n",
      "100%|██████████| 300/300 [00:30<00:00,  9.71it/s]\n",
      "100%|██████████| 300/300 [00:29<00:00, 10.05it/s]\n",
      "100%|██████████| 300/300 [00:20<00:00, 14.92it/s]\n",
      "100%|██████████| 300/300 [00:08<00:00, 34.97it/s]\n",
      "100%|██████████| 300/300 [00:03<00:00, 79.34it/s]\n",
      "100%|██████████| 300/300 [00:02<00:00, 142.04it/s]\n",
      "100%|██████████| 300/300 [00:01<00:00, 225.05it/s]\n",
      "100%|██████████| 300/300 [00:01<00:00, 236.01it/s]\n",
      "100%|██████████| 300/300 [00:01<00:00, 265.01it/s]\n",
      "100%|██████████| 300/300 [00:01<00:00, 267.02it/s]\n",
      "100%|██████████| 300/300 [00:01<00:00, 251.41it/s]\n",
      "100%|██████████| 300/300 [00:01<00:00, 282.61it/s]\n",
      "100%|██████████| 300/300 [00:00<00:00, 318.53it/s]\n",
      "100%|██████████| 300/300 [00:00<00:00, 329.99it/s]\n",
      "100%|██████████| 300/300 [00:00<00:00, 337.41it/s]\n"
     ]
    }
   ],
   "source": [
    "# generate signal\n",
    "n_samples = 300\n",
    "n_bkps = 3\n",
    "n_dims = 1\n",
    "noise_std = 1\n",
    "seed_noise = 42\n",
    "np.random.seed(seed_noise)\n",
    "list_mult = np.exp(np.linspace(np.log(0.1), np.log(10), 20))\n",
    "\n",
    "\n",
    "dic_res = {\n",
    "    'rand_rfpop' : [],\n",
    "    'haus_rfpop' : [],\n",
    "    'pen_mult' : [],\n",
    "    'thresh_mult' : []\n",
    "    }\n",
    "\n",
    "for i,pen_mult in enumerate(list_mult):\n",
    "  print('{} iteration out of 20'.format(i+1))\n",
    "  for thresh_mult  in list_mult:\n",
    "\n",
    "    # Generate signal\n",
    "    signal, bkps = generate_signal_t_distrib(n_samples, n_bkps, n_dims, 2)\n",
    "    d_signal = np.array([signal[i+1]-signal[i] for i in range(len(signal)-1)])\n",
    "    sigma_hat = np.median(np.abs(d_signal - np.median(d_signal)))\n",
    "    pen_bic = 2 * np.log(n_samples) * sigma_hat**2 * pen_mult\n",
    "    K = 3 * sigma_hat * thresh_mult\n",
    "    \n",
    "    # RFPOP\n",
    "    cp, _ = rfpop(signal, pen_bic, K)\n",
    "    cp = np.array(cp)[:,1]\n",
    "    cp[np.where(cp == None)] = 0\n",
    "    predicted_bkps = np.unique(cp)[1:]\n",
    "    predicted_bkps = np.hstack((predicted_bkps,signal.shape[0]))\n",
    "\n",
    "    dic_res['rand_rfpop'].append(eval_segmentation(bkps, predicted_bkps, signal))\n",
    "    dic_res['pen_mult'].append(pen_mult)\n",
    "    dic_res['thresh_mult'].append(thresh_mult)\n",
    "\n",
    "\n"
   ]
  },
  {
   "cell_type": "code",
   "execution_count": 85,
   "metadata": {
    "colab": {
     "base_uri": "https://localhost:8080/",
     "height": 301
    },
    "id": "l-kI7784dQzp",
    "outputId": "9fc9101b-ee83-4c85-f78e-040baa0e7670"
   },
   "outputs": [
    {
     "data": {
      "image/png": "[encoded data removed]",
      "text/plain": [
       "<Figure size 432x288 with 2 Axes>"
      ]
     },
     "metadata": {
      "needs_background": "light"
     },
     "output_type": "display_data"
    }
   ],
   "source": [
    "df3 = pd.DataFrame(dic_res)\n",
    "tab = pd.pivot_table(df3[['rand_rfpop', 'pen_mult', 'thresh_mult']], values='rand_rfpop', columns='pen_mult', index='thresh_mult')\n",
    "\n",
    "plt.imshow(tab.sort_values(by='thresh_mult', ascending=False))\n",
    "plt.xticks(np.arange(20)[::4], [round(mult, 1) for mult in list_mult][::4])\n",
    "plt.yticks(np.arange(20)[::4], [round(mult, 3) for mult in list_mult][::-4])\n",
    "plt.colorbar()\n",
    "plt.title('Rand scores')\n",
    "plt.xlabel('$x \\\\times \\\\beta^*$')\n",
    "plt.ylabel('$y \\\\times K^*$')\n",
    "plt.scatter([9.1053], [9.1053], c='r', label='$(\\\\beta^*, K^*)$')\n",
    "plt.legend(loc='upper right', bbox_to_anchor=[1.6, 1.])\n",
    "plt.show()"
   ]
  },
  {
   "cell_type": "markdown",
   "metadata": {
    "id": "uGIzMiroVqpv"
   },
   "source": [
    "# Well-log dataset"
   ]
  },
  {
   "cell_type": "markdown",
   "metadata": {
    "id": "K8QXm1A9Vuhm"
   },
   "source": [
    "The dataset is available on https://github.com/alan-turing-institute/rbocpdms/tree/master/Data."
   ]
  },
  {
   "cell_type": "code",
   "execution_count": 71,
   "metadata": {
    "colab": {
     "base_uri": "https://localhost:8080/"
    },
    "id": "Pz1STiOj2e94",
    "outputId": "829841eb-7393-4630-9010-30620a017480"
   },
   "outputs": [
    {
     "name": "stdout",
     "output_type": "stream",
     "text": [
      "Downloading...\n",
      "From: https://drive.google.com/uc?id=189Zaj1-1L4Qq2kUgq6iFKAztCSR6U0Fb\n",
      "To: /content/well.txt\n",
      "\r",
      "  0% 0.00/56.7k [00:00<?, ?B/s]\r",
      "100% 56.7k/56.7k [00:00<00:00, 58.0MB/s]\n"
     ]
    }
   ],
   "source": [
    "!gdown --id 189Zaj1-1L4Qq2kUgq6iFKAztCSR6U0Fb"
   ]
  },
  {
   "cell_type": "code",
   "execution_count": 72,
   "metadata": {
    "colab": {
     "base_uri": "https://localhost:8080/",
     "height": 228
    },
    "id": "N07ADPOb2iqm",
    "outputId": "f4d2427e-3f3d-440e-8d16-ee56335f7feb"
   },
   "outputs": [
    {
     "data": {
      "image/png": "[encoded data removed]",
      "text/plain": [
       "<Figure size 1080x216 with 1 Axes>"
      ]
     },
     "metadata": {
      "needs_background": "light"
     },
     "output_type": "display_data"
    }
   ],
   "source": [
    "well_log = np.array(open('well.txt').readlines()).astype(float)\n",
    "fig,ax = fig_ax()\n",
    "ax.scatter(np.arange(4050), well_log, s=1)\n",
    "ax.set_xlabel('Time', size=13)\n",
    "ax.set_ylabel('Magnetic response', size=13)\n",
    "plt.show()"
   ]
  },
  {
   "cell_type": "markdown",
   "metadata": {
    "id": "HopuvY2mei2L"
   },
   "source": [
    "We compute the variance of noise in the signal by differentiation."
   ]
  },
  {
   "cell_type": "code",
   "execution_count": 73,
   "metadata": {
    "id": "NcFZ6Lqa4Q1M"
   },
   "outputs": [],
   "source": [
    "var = np.array([well_log[i+1]-well_log[i] for i in range(4049)]).var()"
   ]
  },
  {
   "cell_type": "markdown",
   "metadata": {
    "id": "D0ljFEDJePUk"
   },
   "source": [
    "### PELT algorithm"
   ]
  },
  {
   "cell_type": "code",
   "execution_count": 74,
   "metadata": {
    "colab": {
     "base_uri": "https://localhost:8080/",
     "height": 172
    },
    "id": "4J3UW4OJlzzw",
    "outputId": "1dd03355-21f1-48ed-a007-1e81b25039f8"
   },
   "outputs": [
    {
     "name": "stdout",
     "output_type": "stream",
     "text": [
      "computed in 19.064758777618408\n"
     ]
    },
    {
     "data": {
      "image/png": "[encoded data removed]",
      "text/plain": [
       "<Figure size 720x144 with 1 Axes>"
      ]
     },
     "metadata": {
      "needs_background": "light"
     },
     "output_type": "display_data"
    }
   ],
   "source": [
    "pen_bic = 2 * np.log(4050) * var\n",
    "start = time()\n",
    "predicted_bkps = rpt.Pelt(model=\"l2\", jump=1).fit_predict(\n",
    "    signal=well_log, pen=pen_bic\n",
    ")\n",
    "print('computed in {}'.format(time()-start))\n",
    "fig, ax_arr = rpt.display(well_log, predicted_bkps, predicted_bkps)"
   ]
  },
  {
   "cell_type": "markdown",
   "metadata": {
    "id": "Zxv9my2_d0Tx"
   },
   "source": [
    "### Outlier removal and PELT algorithm\n",
    "\n",
    "For comparison purposes, we try here to remove outliers using a quantile-based approach before performing a change point detection with PELT algorithm."
   ]
  },
  {
   "cell_type": "code",
   "execution_count": 75,
   "metadata": {
    "colab": {
     "base_uri": "https://localhost:8080/",
     "height": 422
    },
    "id": "TD73Td1B82RE",
    "outputId": "cf43bf28-9708-4af7-dcf0-f078c27e1726"
   },
   "outputs": [
    {
     "data": {
      "image/png": "[encoded data removed]",
      "text/plain": [
       "<Figure size 1080x216 with 1 Axes>"
      ]
     },
     "metadata": {
      "needs_background": "light"
     },
     "output_type": "display_data"
    },
    {
     "data": {
      "image/png": "[encoded data removed]",
      "text/plain": [
       "<Figure size 1080x216 with 1 Axes>"
      ]
     },
     "metadata": {
      "needs_background": "light"
     },
     "output_type": "display_data"
    }
   ],
   "source": [
    "quantile_threshold_low = 0.02\n",
    "\n",
    "fig, ax = fig_ax()\n",
    "_ = ax.hist(well_log, 20)\n",
    "\n",
    "threshold_low = np.quantile(\n",
    "    well_log, [quantile_threshold_low]\n",
    ")\n",
    "_ = ax.axvline(threshold_low, ls=\"--\", color=\"k\")\n",
    "plt.show()\n",
    "\n",
    "fig,ax = fig_ax()\n",
    "ax.scatter(np.arange(4050)[well_log>threshold_low], well_log[well_log> threshold_low], s=1)\n",
    "ax.scatter(np.arange(4050)[well_log<threshold_low], well_log[well_log< threshold_low], s=1, color='orange')\n",
    "ax.set_xlabel('Time', size=13)\n",
    "ax.set_ylabel('Magnetic response', size=13)\n",
    "plt.show()"
   ]
  },
  {
   "cell_type": "code",
   "execution_count": 76,
   "metadata": {
    "colab": {
     "base_uri": "https://localhost:8080/",
     "height": 172
    },
    "id": "Oyz5B9t4mKEI",
    "outputId": "ca7e9970-fadd-4b7a-bc43-d9924f969d55"
   },
   "outputs": [
    {
     "name": "stdout",
     "output_type": "stream",
     "text": [
      "computed in 26.933120727539062\n"
     ]
    },
    {
     "data": {
      "image/png": "[encoded data removed]",
      "text/plain": [
       "<Figure size 720x144 with 1 Axes>"
      ]
     },
     "metadata": {
      "needs_background": "light"
     },
     "output_type": "display_data"
    }
   ],
   "source": [
    "pen_bic = 2 * np.log(4050) * var \n",
    "start = time()\n",
    "predicted_bkps = rpt.Pelt(model=\"l2\", jump=1).fit_predict(\n",
    "    signal=well_log[well_log>threshold_low], pen=pen_bic\n",
    ")\n",
    "print('computed in {}'.format(time()-start))\n",
    "fig, ax_arr = rpt.display(well_log[well_log>threshold_low], predicted_bkps, predicted_bkps)"
   ]
  },
  {
   "cell_type": "markdown",
   "metadata": {
    "id": "boicrhMhgQX7"
   },
   "source": [
    "The results are better than without any preprocessing, but since the outliers with non aberrant values are not removed with this quantile approach, the remaining outliers are still considered as change points."
   ]
  },
  {
   "cell_type": "markdown",
   "metadata": {
    "id": "KNKtCkeietND"
   },
   "source": [
    "### R-FPOP"
   ]
  },
  {
   "cell_type": "code",
   "execution_count": 77,
   "metadata": {
    "colab": {
     "base_uri": "https://localhost:8080/",
     "height": 172
    },
    "id": "XzkBgq36lW3a",
    "outputId": "918b3ceb-c056-4a84-e5a4-2dbe00a8cc6e"
   },
   "outputs": [
    {
     "name": "stderr",
     "output_type": "stream",
     "text": [
      "100%|██████████| 4050/4050 [00:24<00:00, 163.24it/s]\n"
     ]
    },
    {
     "data": {
      "image/png": "[encoded data removed]",
      "text/plain": [
       "<Figure size 720x144 with 1 Axes>"
      ]
     },
     "metadata": {
      "needs_background": "light"
     },
     "output_type": "display_data"
    }
   ],
   "source": [
    "cp, _ = rfpop(well_log, var*70, 3*np.sqrt(var))\n",
    "\n",
    "cp = np.array(cp)[:,1]\n",
    "cp[np.where(cp == None)] = 0\n",
    "predicted_bkps = np.unique(cp)[1:]\n",
    "predicted_bkps = np.hstack((predicted_bkps,well_log.shape[0]))\n",
    "\n",
    "fig, ax_arr = rpt.display(well_log, predicted_bkps, predicted_bkps)"
   ]
  },
  {
   "cell_type": "markdown",
   "metadata": {
    "id": "g6e8v_qve5Lg"
   },
   "source": [
    "### Online analysis\n",
    "\n",
    "**WARNING** : the cells in the following section take up to an hour to run"
   ]
  },
  {
   "cell_type": "code",
   "execution_count": 89,
   "metadata": {
    "colab": {
     "base_uri": "https://localhost:8080/"
    },
    "id": "MhQTJocLe5hY",
    "outputId": "6948f37a-d4ee-4143-ee23-0d1156c04e9e"
   },
   "outputs": [
    {
     "name": "stdout",
     "output_type": "stream",
     "text": [
      "Time 1360 over 2750\n"
     ]
    },
    {
     "name": "stderr",
     "output_type": "stream",
     "text": [
      "100%|██████████| 10/10 [00:00<00:00, 538.16it/s]\n"
     ]
    },
    {
     "name": "stdout",
     "output_type": "stream",
     "text": [
      "Time 1370 over 2750\n"
     ]
    },
    {
     "name": "stderr",
     "output_type": "stream",
     "text": [
      "100%|██████████| 20/20 [00:00<00:00, 110.64it/s]\n"
     ]
    },
    {
     "name": "stdout",
     "output_type": "stream",
     "text": [
      "Time 1380 over 2750\n"
     ]
    },
    {
     "name": "stderr",
     "output_type": "stream",
     "text": [
      "100%|██████████| 30/30 [00:00<00:00, 67.23it/s]\n"
     ]
    },
    {
     "name": "stdout",
     "output_type": "stream",
     "text": [
      "Time 1390 over 2750\n"
     ]
    },
    {
     "name": "stderr",
     "output_type": "stream",
     "text": [
      "100%|██████████| 40/40 [00:00<00:00, 48.18it/s]\n"
     ]
    },
    {
     "name": "stdout",
     "output_type": "stream",
     "text": [
      "Time 1400 over 2750\n"
     ]
    },
    {
     "name": "stderr",
     "output_type": "stream",
     "text": [
      "100%|██████████| 50/50 [00:00<00:00, 93.69it/s]\n"
     ]
    },
    {
     "name": "stdout",
     "output_type": "stream",
     "text": [
      "Time 1410 over 2750\n"
     ]
    },
    {
     "name": "stderr",
     "output_type": "stream",
     "text": [
      "100%|██████████| 60/60 [00:00<00:00, 98.51it/s]\n"
     ]
    },
    {
     "name": "stdout",
     "output_type": "stream",
     "text": [
      "Time 1420 over 2750\n"
     ]
    },
    {
     "name": "stderr",
     "output_type": "stream",
     "text": [
      "100%|██████████| 70/70 [00:00<00:00, 94.00it/s]\n"
     ]
    },
    {
     "name": "stdout",
     "output_type": "stream",
     "text": [
      "Time 1430 over 2750\n"
     ]
    },
    {
     "name": "stderr",
     "output_type": "stream",
     "text": [
      "100%|██████████| 80/80 [00:00<00:00, 89.60it/s]\n"
     ]
    },
    {
     "name": "stdout",
     "output_type": "stream",
     "text": [
      "Time 1440 over 2750\n"
     ]
    },
    {
     "name": "stderr",
     "output_type": "stream",
     "text": [
      "100%|██████████| 90/90 [00:01<00:00, 84.66it/s]\n"
     ]
    },
    {
     "name": "stdout",
     "output_type": "stream",
     "text": [
      "Time 1450 over 2750\n"
     ]
    },
    {
     "name": "stderr",
     "output_type": "stream",
     "text": [
      "100%|██████████| 100/100 [00:01<00:00, 74.33it/s]\n"
     ]
    },
    {
     "name": "stdout",
     "output_type": "stream",
     "text": [
      "Time 1460 over 2750\n"
     ]
    },
    {
     "name": "stderr",
     "output_type": "stream",
     "text": [
      "100%|██████████| 110/110 [00:01<00:00, 78.08it/s]\n"
     ]
    },
    {
     "name": "stdout",
     "output_type": "stream",
     "text": [
      "Time 1470 over 2750\n"
     ]
    },
    {
     "name": "stderr",
     "output_type": "stream",
     "text": [
      "100%|██████████| 120/120 [00:01<00:00, 74.30it/s]\n"
     ]
    },
    {
     "name": "stdout",
     "output_type": "stream",
     "text": [
      "Time 1480 over 2750\n"
     ]
    },
    {
     "name": "stderr",
     "output_type": "stream",
     "text": [
      "100%|██████████| 130/130 [00:01<00:00, 77.54it/s]\n"
     ]
    },
    {
     "name": "stdout",
     "output_type": "stream",
     "text": [
      "Time 1490 over 2750\n"
     ]
    },
    {
     "name": "stderr",
     "output_type": "stream",
     "text": [
      "100%|██████████| 140/140 [00:01<00:00, 79.29it/s]\n"
     ]
    },
    {
     "name": "stdout",
     "output_type": "stream",
     "text": [
      "Time 1500 over 2750\n"
     ]
    },
    {
     "name": "stderr",
     "output_type": "stream",
     "text": [
      "100%|██████████| 150/150 [00:01<00:00, 75.35it/s]\n"
     ]
    },
    {
     "name": "stdout",
     "output_type": "stream",
     "text": [
      "Time 1510 over 2750\n"
     ]
    },
    {
     "name": "stderr",
     "output_type": "stream",
     "text": [
      "100%|██████████| 160/160 [00:02<00:00, 67.90it/s]\n"
     ]
    },
    {
     "name": "stdout",
     "output_type": "stream",
     "text": [
      "Time 1520 over 2750\n"
     ]
    },
    {
     "name": "stderr",
     "output_type": "stream",
     "text": [
      "100%|██████████| 170/170 [00:02<00:00, 63.91it/s]\n"
     ]
    },
    {
     "name": "stdout",
     "output_type": "stream",
     "text": [
      "Time 1530 over 2750\n"
     ]
    },
    {
     "name": "stderr",
     "output_type": "stream",
     "text": [
      "100%|██████████| 180/180 [00:03<00:00, 59.68it/s]\n"
     ]
    },
    {
     "name": "stdout",
     "output_type": "stream",
     "text": [
      "Time 1540 over 2750\n"
     ]
    },
    {
     "name": "stderr",
     "output_type": "stream",
     "text": [
      "100%|██████████| 190/190 [00:02<00:00, 65.00it/s]\n"
     ]
    },
    {
     "name": "stdout",
     "output_type": "stream",
     "text": [
      "Time 1550 over 2750\n"
     ]
    },
    {
     "name": "stderr",
     "output_type": "stream",
     "text": [
      "100%|██████████| 200/200 [00:03<00:00, 63.69it/s]\n"
     ]
    },
    {
     "name": "stdout",
     "output_type": "stream",
     "text": [
      "Time 1560 over 2750\n"
     ]
    },
    {
     "name": "stderr",
     "output_type": "stream",
     "text": [
      "100%|██████████| 210/210 [00:03<00:00, 62.18it/s]\n"
     ]
    },
    {
     "name": "stdout",
     "output_type": "stream",
     "text": [
      "Time 1570 over 2750\n"
     ]
    },
    {
     "name": "stderr",
     "output_type": "stream",
     "text": [
      "100%|██████████| 220/220 [00:03<00:00, 62.31it/s]\n"
     ]
    },
    {
     "name": "stdout",
     "output_type": "stream",
     "text": [
      "Time 1580 over 2750\n"
     ]
    },
    {
     "name": "stderr",
     "output_type": "stream",
     "text": [
      "100%|██████████| 230/230 [00:03<00:00, 62.10it/s]\n"
     ]
    },
    {
     "name": "stdout",
     "output_type": "stream",
     "text": [
      "Time 1590 over 2750\n"
     ]
    },
    {
     "name": "stderr",
     "output_type": "stream",
     "text": [
      "100%|██████████| 240/240 [00:03<00:00, 65.56it/s]\n"
     ]
    },
    {
     "name": "stdout",
     "output_type": "stream",
     "text": [
      "Time 1600 over 2750\n"
     ]
    },
    {
     "name": "stderr",
     "output_type": "stream",
     "text": [
      "100%|██████████| 250/250 [00:03<00:00, 72.03it/s]\n"
     ]
    },
    {
     "name": "stdout",
     "output_type": "stream",
     "text": [
      "Time 1610 over 2750\n"
     ]
    },
    {
     "name": "stderr",
     "output_type": "stream",
     "text": [
      "100%|██████████| 260/260 [00:03<00:00, 67.74it/s]\n"
     ]
    },
    {
     "name": "stdout",
     "output_type": "stream",
     "text": [
      "Time 1620 over 2750\n"
     ]
    },
    {
     "name": "stderr",
     "output_type": "stream",
     "text": [
      "100%|██████████| 270/270 [00:04<00:00, 64.31it/s]\n"
     ]
    },
    {
     "name": "stdout",
     "output_type": "stream",
     "text": [
      "Time 1630 over 2750\n"
     ]
    },
    {
     "name": "stderr",
     "output_type": "stream",
     "text": [
      "100%|██████████| 280/280 [00:04<00:00, 65.16it/s]\n"
     ]
    },
    {
     "name": "stdout",
     "output_type": "stream",
     "text": [
      "Time 1640 over 2750\n"
     ]
    },
    {
     "name": "stderr",
     "output_type": "stream",
     "text": [
      "100%|██████████| 290/290 [00:04<00:00, 65.68it/s]\n"
     ]
    },
    {
     "name": "stdout",
     "output_type": "stream",
     "text": [
      "Time 1650 over 2750\n"
     ]
    },
    {
     "name": "stderr",
     "output_type": "stream",
     "text": [
      "100%|██████████| 300/300 [00:04<00:00, 66.44it/s]\n"
     ]
    },
    {
     "name": "stdout",
     "output_type": "stream",
     "text": [
      "Time 1660 over 2750\n"
     ]
    },
    {
     "name": "stderr",
     "output_type": "stream",
     "text": [
      "100%|██████████| 310/310 [00:04<00:00, 67.31it/s]\n"
     ]
    },
    {
     "name": "stdout",
     "output_type": "stream",
     "text": [
      "Time 1670 over 2750\n"
     ]
    },
    {
     "name": "stderr",
     "output_type": "stream",
     "text": [
      "100%|██████████| 320/320 [00:04<00:00, 66.13it/s]\n"
     ]
    },
    {
     "name": "stdout",
     "output_type": "stream",
     "text": [
      "Time 1680 over 2750\n"
     ]
    },
    {
     "name": "stderr",
     "output_type": "stream",
     "text": [
      "100%|██████████| 330/330 [00:04<00:00, 68.22it/s]\n"
     ]
    },
    {
     "name": "stdout",
     "output_type": "stream",
     "text": [
      "Time 1690 over 2750\n"
     ]
    },
    {
     "name": "stderr",
     "output_type": "stream",
     "text": [
      "100%|██████████| 340/340 [00:04<00:00, 69.26it/s]\n"
     ]
    },
    {
     "name": "stdout",
     "output_type": "stream",
     "text": [
      "Time 1700 over 2750\n"
     ]
    },
    {
     "name": "stderr",
     "output_type": "stream",
     "text": [
      "100%|██████████| 350/350 [00:05<00:00, 66.60it/s]\n"
     ]
    },
    {
     "name": "stdout",
     "output_type": "stream",
     "text": [
      "Time 1710 over 2750\n"
     ]
    },
    {
     "name": "stderr",
     "output_type": "stream",
     "text": [
      "100%|██████████| 360/360 [00:05<00:00, 67.78it/s]\n"
     ]
    },
    {
     "name": "stdout",
     "output_type": "stream",
     "text": [
      "Time 1720 over 2750\n"
     ]
    },
    {
     "name": "stderr",
     "output_type": "stream",
     "text": [
      "100%|██████████| 370/370 [00:05<00:00, 67.68it/s]\n"
     ]
    },
    {
     "name": "stdout",
     "output_type": "stream",
     "text": [
      "Time 1730 over 2750\n"
     ]
    },
    {
     "name": "stderr",
     "output_type": "stream",
     "text": [
      "100%|██████████| 380/380 [00:05<00:00, 67.39it/s]\n"
     ]
    },
    {
     "name": "stdout",
     "output_type": "stream",
     "text": [
      "Time 1740 over 2750\n"
     ]
    },
    {
     "name": "stderr",
     "output_type": "stream",
     "text": [
      "100%|██████████| 390/390 [00:05<00:00, 65.80it/s]\n"
     ]
    },
    {
     "name": "stdout",
     "output_type": "stream",
     "text": [
      "Time 1750 over 2750\n"
     ]
    },
    {
     "name": "stderr",
     "output_type": "stream",
     "text": [
      "100%|██████████| 400/400 [00:06<00:00, 64.51it/s]\n"
     ]
    },
    {
     "name": "stdout",
     "output_type": "stream",
     "text": [
      "Time 1760 over 2750\n"
     ]
    },
    {
     "name": "stderr",
     "output_type": "stream",
     "text": [
      "100%|██████████| 410/410 [00:06<00:00, 64.51it/s]\n"
     ]
    },
    {
     "name": "stdout",
     "output_type": "stream",
     "text": [
      "Time 1770 over 2750\n"
     ]
    },
    {
     "name": "stderr",
     "output_type": "stream",
     "text": [
      "100%|██████████| 420/420 [00:06<00:00, 63.82it/s]\n"
     ]
    },
    {
     "name": "stdout",
     "output_type": "stream",
     "text": [
      "Time 1780 over 2750\n"
     ]
    },
    {
     "name": "stderr",
     "output_type": "stream",
     "text": [
      "100%|██████████| 430/430 [00:06<00:00, 64.07it/s]\n"
     ]
    },
    {
     "name": "stdout",
     "output_type": "stream",
     "text": [
      "Time 1790 over 2750\n"
     ]
    },
    {
     "name": "stderr",
     "output_type": "stream",
     "text": [
      "100%|██████████| 440/440 [00:07<00:00, 60.48it/s]\n"
     ]
    },
    {
     "name": "stdout",
     "output_type": "stream",
     "text": [
      "Time 1800 over 2750\n"
     ]
    },
    {
     "name": "stderr",
     "output_type": "stream",
     "text": [
      "100%|██████████| 450/450 [00:07<00:00, 62.89it/s]\n"
     ]
    },
    {
     "name": "stdout",
     "output_type": "stream",
     "text": [
      "Time 1810 over 2750\n"
     ]
    },
    {
     "name": "stderr",
     "output_type": "stream",
     "text": [
      "100%|██████████| 460/460 [00:07<00:00, 61.36it/s]\n"
     ]
    },
    {
     "name": "stdout",
     "output_type": "stream",
     "text": [
      "Time 1820 over 2750\n"
     ]
    },
    {
     "name": "stderr",
     "output_type": "stream",
     "text": [
      "100%|██████████| 470/470 [00:07<00:00, 62.55it/s]\n"
     ]
    },
    {
     "name": "stdout",
     "output_type": "stream",
     "text": [
      "Time 1830 over 2750\n"
     ]
    },
    {
     "name": "stderr",
     "output_type": "stream",
     "text": [
      "100%|██████████| 480/480 [00:07<00:00, 62.43it/s]\n"
     ]
    },
    {
     "name": "stdout",
     "output_type": "stream",
     "text": [
      "Time 1840 over 2750\n"
     ]
    },
    {
     "name": "stderr",
     "output_type": "stream",
     "text": [
      "100%|██████████| 490/490 [00:08<00:00, 59.15it/s]\n"
     ]
    },
    {
     "name": "stdout",
     "output_type": "stream",
     "text": [
      "Time 1850 over 2750\n"
     ]
    },
    {
     "name": "stderr",
     "output_type": "stream",
     "text": [
      "100%|██████████| 500/500 [00:08<00:00, 59.47it/s]\n"
     ]
    },
    {
     "name": "stdout",
     "output_type": "stream",
     "text": [
      "Time 1860 over 2750\n"
     ]
    },
    {
     "name": "stderr",
     "output_type": "stream",
     "text": [
      "100%|██████████| 510/510 [00:09<00:00, 54.46it/s]\n"
     ]
    },
    {
     "name": "stdout",
     "output_type": "stream",
     "text": [
      "Time 1870 over 2750\n"
     ]
    },
    {
     "name": "stderr",
     "output_type": "stream",
     "text": [
      "100%|██████████| 520/520 [00:08<00:00, 58.36it/s]\n"
     ]
    },
    {
     "name": "stdout",
     "output_type": "stream",
     "text": [
      "Time 1880 over 2750\n"
     ]
    },
    {
     "name": "stderr",
     "output_type": "stream",
     "text": [
      "100%|██████████| 530/530 [00:09<00:00, 57.46it/s]\n"
     ]
    },
    {
     "name": "stdout",
     "output_type": "stream",
     "text": [
      "Time 1890 over 2750\n"
     ]
    },
    {
     "name": "stderr",
     "output_type": "stream",
     "text": [
      "100%|██████████| 540/540 [00:09<00:00, 56.99it/s]\n"
     ]
    },
    {
     "name": "stdout",
     "output_type": "stream",
     "text": [
      "Time 1900 over 2750\n"
     ]
    },
    {
     "name": "stderr",
     "output_type": "stream",
     "text": [
      "100%|██████████| 550/550 [00:09<00:00, 57.34it/s]\n"
     ]
    },
    {
     "name": "stdout",
     "output_type": "stream",
     "text": [
      "Time 1910 over 2750\n"
     ]
    },
    {
     "name": "stderr",
     "output_type": "stream",
     "text": [
      "100%|██████████| 560/560 [00:09<00:00, 57.14it/s]\n"
     ]
    },
    {
     "name": "stdout",
     "output_type": "stream",
     "text": [
      "Time 1920 over 2750\n"
     ]
    },
    {
     "name": "stderr",
     "output_type": "stream",
     "text": [
      "100%|██████████| 570/570 [00:10<00:00, 56.17it/s]\n"
     ]
    },
    {
     "name": "stdout",
     "output_type": "stream",
     "text": [
      "Time 1930 over 2750\n"
     ]
    },
    {
     "name": "stderr",
     "output_type": "stream",
     "text": [
      "100%|██████████| 580/580 [00:10<00:00, 57.03it/s]\n"
     ]
    },
    {
     "name": "stdout",
     "output_type": "stream",
     "text": [
      "Time 1940 over 2750\n"
     ]
    },
    {
     "name": "stderr",
     "output_type": "stream",
     "text": [
      "100%|██████████| 590/590 [00:10<00:00, 57.58it/s]\n"
     ]
    },
    {
     "name": "stdout",
     "output_type": "stream",
     "text": [
      "Time 1950 over 2750\n"
     ]
    },
    {
     "name": "stderr",
     "output_type": "stream",
     "text": [
      "100%|██████████| 600/600 [00:10<00:00, 57.73it/s]\n"
     ]
    },
    {
     "name": "stdout",
     "output_type": "stream",
     "text": [
      "Time 1960 over 2750\n"
     ]
    },
    {
     "name": "stderr",
     "output_type": "stream",
     "text": [
      "100%|██████████| 610/610 [00:10<00:00, 56.12it/s]\n"
     ]
    },
    {
     "name": "stdout",
     "output_type": "stream",
     "text": [
      "Time 1970 over 2750\n"
     ]
    },
    {
     "name": "stderr",
     "output_type": "stream",
     "text": [
      "100%|██████████| 620/620 [00:10<00:00, 57.60it/s]\n"
     ]
    },
    {
     "name": "stdout",
     "output_type": "stream",
     "text": [
      "Time 1980 over 2750\n"
     ]
    },
    {
     "name": "stderr",
     "output_type": "stream",
     "text": [
      "100%|██████████| 630/630 [00:11<00:00, 56.91it/s]\n"
     ]
    },
    {
     "name": "stdout",
     "output_type": "stream",
     "text": [
      "Time 1990 over 2750\n"
     ]
    },
    {
     "name": "stderr",
     "output_type": "stream",
     "text": [
      "100%|██████████| 640/640 [00:10<00:00, 59.09it/s]\n"
     ]
    },
    {
     "name": "stdout",
     "output_type": "stream",
     "text": [
      "Time 2000 over 2750\n"
     ]
    },
    {
     "name": "stderr",
     "output_type": "stream",
     "text": [
      "100%|██████████| 650/650 [00:11<00:00, 58.66it/s]\n"
     ]
    },
    {
     "name": "stdout",
     "output_type": "stream",
     "text": [
      "Time 2010 over 2750\n"
     ]
    },
    {
     "name": "stderr",
     "output_type": "stream",
     "text": [
      "100%|██████████| 660/660 [00:11<00:00, 57.20it/s]\n"
     ]
    },
    {
     "name": "stdout",
     "output_type": "stream",
     "text": [
      "Time 2020 over 2750\n"
     ]
    },
    {
     "name": "stderr",
     "output_type": "stream",
     "text": [
      "100%|██████████| 670/670 [00:11<00:00, 60.03it/s]\n"
     ]
    },
    {
     "name": "stdout",
     "output_type": "stream",
     "text": [
      "Time 2030 over 2750\n"
     ]
    },
    {
     "name": "stderr",
     "output_type": "stream",
     "text": [
      "100%|██████████| 680/680 [00:11<00:00, 59.33it/s]\n"
     ]
    },
    {
     "name": "stdout",
     "output_type": "stream",
     "text": [
      "Time 2040 over 2750\n"
     ]
    },
    {
     "name": "stderr",
     "output_type": "stream",
     "text": [
      "100%|██████████| 690/690 [00:11<00:00, 59.90it/s]\n"
     ]
    },
    {
     "name": "stdout",
     "output_type": "stream",
     "text": [
      "Time 2050 over 2750\n"
     ]
    },
    {
     "name": "stderr",
     "output_type": "stream",
     "text": [
      "100%|██████████| 700/700 [00:11<00:00, 60.30it/s]\n"
     ]
    },
    {
     "name": "stdout",
     "output_type": "stream",
     "text": [
      "Time 2060 over 2750\n"
     ]
    },
    {
     "name": "stderr",
     "output_type": "stream",
     "text": [
      "100%|██████████| 710/710 [00:11<00:00, 60.05it/s]\n"
     ]
    },
    {
     "name": "stdout",
     "output_type": "stream",
     "text": [
      "Time 2070 over 2750\n"
     ]
    },
    {
     "name": "stderr",
     "output_type": "stream",
     "text": [
      "100%|██████████| 720/720 [00:11<00:00, 60.03it/s]\n"
     ]
    },
    {
     "name": "stdout",
     "output_type": "stream",
     "text": [
      "Time 2080 over 2750\n"
     ]
    },
    {
     "name": "stderr",
     "output_type": "stream",
     "text": [
      "100%|██████████| 730/730 [00:12<00:00, 60.57it/s]\n"
     ]
    },
    {
     "name": "stdout",
     "output_type": "stream",
     "text": [
      "Time 2090 over 2750\n"
     ]
    },
    {
     "name": "stderr",
     "output_type": "stream",
     "text": [
      "100%|██████████| 740/740 [00:12<00:00, 58.83it/s]\n"
     ]
    },
    {
     "name": "stdout",
     "output_type": "stream",
     "text": [
      "Time 2100 over 2750\n"
     ]
    },
    {
     "name": "stderr",
     "output_type": "stream",
     "text": [
      "100%|██████████| 750/750 [00:12<00:00, 58.50it/s]\n"
     ]
    },
    {
     "name": "stdout",
     "output_type": "stream",
     "text": [
      "Time 2110 over 2750\n"
     ]
    },
    {
     "name": "stderr",
     "output_type": "stream",
     "text": [
      "100%|██████████| 760/760 [00:12<00:00, 58.60it/s]\n"
     ]
    },
    {
     "name": "stdout",
     "output_type": "stream",
     "text": [
      "Time 2120 over 2750\n"
     ]
    },
    {
     "name": "stderr",
     "output_type": "stream",
     "text": [
      "100%|██████████| 770/770 [00:13<00:00, 57.50it/s]\n"
     ]
    },
    {
     "name": "stdout",
     "output_type": "stream",
     "text": [
      "Time 2130 over 2750\n"
     ]
    },
    {
     "name": "stderr",
     "output_type": "stream",
     "text": [
      "100%|██████████| 780/780 [00:13<00:00, 59.03it/s]\n"
     ]
    },
    {
     "name": "stdout",
     "output_type": "stream",
     "text": [
      "Time 2140 over 2750\n"
     ]
    },
    {
     "name": "stderr",
     "output_type": "stream",
     "text": [
      "100%|██████████| 790/790 [00:13<00:00, 58.96it/s]\n"
     ]
    },
    {
     "name": "stdout",
     "output_type": "stream",
     "text": [
      "Time 2150 over 2750\n"
     ]
    },
    {
     "name": "stderr",
     "output_type": "stream",
     "text": [
      "100%|██████████| 800/800 [00:13<00:00, 59.30it/s]\n"
     ]
    },
    {
     "name": "stdout",
     "output_type": "stream",
     "text": [
      "Time 2160 over 2750\n"
     ]
    },
    {
     "name": "stderr",
     "output_type": "stream",
     "text": [
      "100%|██████████| 810/810 [00:13<00:00, 59.11it/s]\n"
     ]
    },
    {
     "name": "stdout",
     "output_type": "stream",
     "text": [
      "Time 2170 over 2750\n"
     ]
    },
    {
     "name": "stderr",
     "output_type": "stream",
     "text": [
      "100%|██████████| 820/820 [00:13<00:00, 59.39it/s]\n"
     ]
    },
    {
     "name": "stdout",
     "output_type": "stream",
     "text": [
      "Time 2180 over 2750\n"
     ]
    },
    {
     "name": "stderr",
     "output_type": "stream",
     "text": [
      "100%|██████████| 830/830 [00:14<00:00, 58.54it/s]\n"
     ]
    },
    {
     "name": "stdout",
     "output_type": "stream",
     "text": [
      "Time 2190 over 2750\n"
     ]
    },
    {
     "name": "stderr",
     "output_type": "stream",
     "text": [
      "100%|██████████| 840/840 [00:13<00:00, 61.13it/s]\n"
     ]
    },
    {
     "name": "stdout",
     "output_type": "stream",
     "text": [
      "Time 2200 over 2750\n"
     ]
    },
    {
     "name": "stderr",
     "output_type": "stream",
     "text": [
      "100%|██████████| 850/850 [00:14<00:00, 60.14it/s]\n"
     ]
    },
    {
     "name": "stdout",
     "output_type": "stream",
     "text": [
      "Time 2210 over 2750\n"
     ]
    },
    {
     "name": "stderr",
     "output_type": "stream",
     "text": [
      "100%|██████████| 860/860 [00:14<00:00, 59.31it/s]\n"
     ]
    },
    {
     "name": "stdout",
     "output_type": "stream",
     "text": [
      "Time 2220 over 2750\n"
     ]
    },
    {
     "name": "stderr",
     "output_type": "stream",
     "text": [
      "100%|██████████| 870/870 [00:14<00:00, 59.97it/s]\n"
     ]
    },
    {
     "name": "stdout",
     "output_type": "stream",
     "text": [
      "Time 2230 over 2750\n"
     ]
    },
    {
     "name": "stderr",
     "output_type": "stream",
     "text": [
      "100%|██████████| 880/880 [00:14<00:00, 60.94it/s]\n"
     ]
    },
    {
     "name": "stdout",
     "output_type": "stream",
     "text": [
      "Time 2240 over 2750\n"
     ]
    },
    {
     "name": "stderr",
     "output_type": "stream",
     "text": [
      "100%|██████████| 890/890 [00:14<00:00, 60.05it/s]\n"
     ]
    },
    {
     "name": "stdout",
     "output_type": "stream",
     "text": [
      "Time 2250 over 2750\n"
     ]
    },
    {
     "name": "stderr",
     "output_type": "stream",
     "text": [
      "100%|██████████| 900/900 [00:15<00:00, 59.81it/s]\n"
     ]
    },
    {
     "name": "stdout",
     "output_type": "stream",
     "text": [
      "Time 2260 over 2750\n"
     ]
    },
    {
     "name": "stderr",
     "output_type": "stream",
     "text": [
      "100%|██████████| 910/910 [00:15<00:00, 58.34it/s]\n"
     ]
    },
    {
     "name": "stdout",
     "output_type": "stream",
     "text": [
      "Time 2270 over 2750\n"
     ]
    },
    {
     "name": "stderr",
     "output_type": "stream",
     "text": [
      "100%|██████████| 920/920 [00:15<00:00, 60.69it/s]\n"
     ]
    },
    {
     "name": "stdout",
     "output_type": "stream",
     "text": [
      "Time 2280 over 2750\n"
     ]
    },
    {
     "name": "stderr",
     "output_type": "stream",
     "text": [
      "100%|██████████| 930/930 [00:15<00:00, 59.96it/s]\n"
     ]
    },
    {
     "name": "stdout",
     "output_type": "stream",
     "text": [
      "Time 2290 over 2750\n"
     ]
    },
    {
     "name": "stderr",
     "output_type": "stream",
     "text": [
      "100%|██████████| 940/940 [00:16<00:00, 58.72it/s]\n"
     ]
    },
    {
     "name": "stdout",
     "output_type": "stream",
     "text": [
      "Time 2300 over 2750\n"
     ]
    },
    {
     "name": "stderr",
     "output_type": "stream",
     "text": [
      "100%|██████████| 950/950 [00:15<00:00, 59.78it/s]\n"
     ]
    },
    {
     "name": "stdout",
     "output_type": "stream",
     "text": [
      "Time 2310 over 2750\n"
     ]
    },
    {
     "name": "stderr",
     "output_type": "stream",
     "text": [
      "100%|██████████| 960/960 [00:15<00:00, 60.24it/s]\n"
     ]
    },
    {
     "name": "stdout",
     "output_type": "stream",
     "text": [
      "Time 2320 over 2750\n"
     ]
    },
    {
     "name": "stderr",
     "output_type": "stream",
     "text": [
      "100%|██████████| 970/970 [00:16<00:00, 58.92it/s]\n"
     ]
    },
    {
     "name": "stdout",
     "output_type": "stream",
     "text": [
      "Time 2330 over 2750\n"
     ]
    },
    {
     "name": "stderr",
     "output_type": "stream",
     "text": [
      "100%|██████████| 980/980 [00:16<00:00, 60.68it/s]\n"
     ]
    },
    {
     "name": "stdout",
     "output_type": "stream",
     "text": [
      "Time 2340 over 2750\n"
     ]
    },
    {
     "name": "stderr",
     "output_type": "stream",
     "text": [
      "100%|██████████| 990/990 [00:16<00:00, 61.50it/s]\n"
     ]
    },
    {
     "name": "stdout",
     "output_type": "stream",
     "text": [
      "Time 2350 over 2750\n"
     ]
    },
    {
     "name": "stderr",
     "output_type": "stream",
     "text": [
      "100%|██████████| 1000/1000 [00:16<00:00, 59.64it/s]\n"
     ]
    },
    {
     "name": "stdout",
     "output_type": "stream",
     "text": [
      "Time 2360 over 2750\n"
     ]
    },
    {
     "name": "stderr",
     "output_type": "stream",
     "text": [
      "100%|██████████| 1010/1010 [00:16<00:00, 61.23it/s]\n"
     ]
    },
    {
     "name": "stdout",
     "output_type": "stream",
     "text": [
      "Time 2370 over 2750\n"
     ]
    },
    {
     "name": "stderr",
     "output_type": "stream",
     "text": [
      "100%|██████████| 1020/1020 [00:16<00:00, 62.06it/s]\n"
     ]
    },
    {
     "name": "stdout",
     "output_type": "stream",
     "text": [
      "Time 2380 over 2750\n"
     ]
    },
    {
     "name": "stderr",
     "output_type": "stream",
     "text": [
      "100%|██████████| 1030/1030 [00:16<00:00, 62.89it/s]\n"
     ]
    },
    {
     "name": "stdout",
     "output_type": "stream",
     "text": [
      "Time 2390 over 2750\n"
     ]
    },
    {
     "name": "stderr",
     "output_type": "stream",
     "text": [
      "100%|██████████| 1040/1040 [00:16<00:00, 62.86it/s]\n"
     ]
    },
    {
     "name": "stdout",
     "output_type": "stream",
     "text": [
      "Time 2400 over 2750\n"
     ]
    },
    {
     "name": "stderr",
     "output_type": "stream",
     "text": [
      "100%|██████████| 1050/1050 [00:16<00:00, 62.62it/s]\n"
     ]
    },
    {
     "name": "stdout",
     "output_type": "stream",
     "text": [
      "Time 2410 over 2750\n"
     ]
    },
    {
     "name": "stderr",
     "output_type": "stream",
     "text": [
      "100%|██████████| 1060/1060 [00:17<00:00, 61.27it/s]\n"
     ]
    },
    {
     "name": "stdout",
     "output_type": "stream",
     "text": [
      "Time 2420 over 2750\n"
     ]
    },
    {
     "name": "stderr",
     "output_type": "stream",
     "text": [
      "100%|██████████| 1070/1070 [00:17<00:00, 61.19it/s]\n"
     ]
    },
    {
     "name": "stdout",
     "output_type": "stream",
     "text": [
      "Time 2430 over 2750\n"
     ]
    },
    {
     "name": "stderr",
     "output_type": "stream",
     "text": [
      "100%|██████████| 1080/1080 [00:17<00:00, 61.47it/s]\n"
     ]
    },
    {
     "name": "stdout",
     "output_type": "stream",
     "text": [
      "Time 2440 over 2750\n"
     ]
    },
    {
     "name": "stderr",
     "output_type": "stream",
     "text": [
      "100%|██████████| 1090/1090 [00:17<00:00, 60.80it/s]\n"
     ]
    },
    {
     "name": "stdout",
     "output_type": "stream",
     "text": [
      "Time 2450 over 2750\n"
     ]
    },
    {
     "name": "stderr",
     "output_type": "stream",
     "text": [
      "100%|██████████| 1100/1100 [00:17<00:00, 62.60it/s]\n"
     ]
    },
    {
     "name": "stdout",
     "output_type": "stream",
     "text": [
      "Time 2460 over 2750\n"
     ]
    },
    {
     "name": "stderr",
     "output_type": "stream",
     "text": [
      "100%|██████████| 1110/1110 [00:18<00:00, 60.56it/s]\n"
     ]
    },
    {
     "name": "stdout",
     "output_type": "stream",
     "text": [
      "Time 2470 over 2750\n"
     ]
    },
    {
     "name": "stderr",
     "output_type": "stream",
     "text": [
      "100%|██████████| 1120/1120 [00:18<00:00, 60.50it/s]\n"
     ]
    },
    {
     "name": "stdout",
     "output_type": "stream",
     "text": [
      "Time 2480 over 2750\n"
     ]
    },
    {
     "name": "stderr",
     "output_type": "stream",
     "text": [
      "100%|██████████| 1130/1130 [00:18<00:00, 62.29it/s]\n"
     ]
    },
    {
     "name": "stdout",
     "output_type": "stream",
     "text": [
      "Time 2490 over 2750\n"
     ]
    },
    {
     "name": "stderr",
     "output_type": "stream",
     "text": [
      "100%|██████████| 1140/1140 [00:18<00:00, 60.84it/s]\n"
     ]
    },
    {
     "name": "stdout",
     "output_type": "stream",
     "text": [
      "Time 2500 over 2750\n"
     ]
    },
    {
     "name": "stderr",
     "output_type": "stream",
     "text": [
      "100%|██████████| 1150/1150 [00:21<00:00, 54.23it/s]\n"
     ]
    },
    {
     "name": "stdout",
     "output_type": "stream",
     "text": [
      "Time 2510 over 2750\n"
     ]
    },
    {
     "name": "stderr",
     "output_type": "stream",
     "text": [
      "100%|██████████| 1160/1160 [00:18<00:00, 61.58it/s]\n"
     ]
    },
    {
     "name": "stdout",
     "output_type": "stream",
     "text": [
      "Time 2520 over 2750\n"
     ]
    },
    {
     "name": "stderr",
     "output_type": "stream",
     "text": [
      "100%|██████████| 1170/1170 [00:19<00:00, 61.32it/s]\n"
     ]
    },
    {
     "name": "stdout",
     "output_type": "stream",
     "text": [
      "Time 2530 over 2750\n"
     ]
    },
    {
     "name": "stderr",
     "output_type": "stream",
     "text": [
      "100%|██████████| 1180/1180 [00:20<00:00, 57.02it/s]\n"
     ]
    },
    {
     "name": "stdout",
     "output_type": "stream",
     "text": [
      "Time 2540 over 2750\n"
     ]
    },
    {
     "name": "stderr",
     "output_type": "stream",
     "text": [
      "100%|██████████| 1190/1190 [00:23<00:00, 50.43it/s]\n"
     ]
    },
    {
     "name": "stdout",
     "output_type": "stream",
     "text": [
      "Time 2550 over 2750\n"
     ]
    },
    {
     "name": "stderr",
     "output_type": "stream",
     "text": [
      "100%|██████████| 1200/1200 [00:19<00:00, 62.11it/s]\n"
     ]
    },
    {
     "name": "stdout",
     "output_type": "stream",
     "text": [
      "Time 2560 over 2750\n"
     ]
    },
    {
     "name": "stderr",
     "output_type": "stream",
     "text": [
      "100%|██████████| 1210/1210 [00:20<00:00, 57.69it/s]\n"
     ]
    },
    {
     "name": "stdout",
     "output_type": "stream",
     "text": [
      "Time 2570 over 2750\n"
     ]
    },
    {
     "name": "stderr",
     "output_type": "stream",
     "text": [
      "100%|██████████| 1220/1220 [00:19<00:00, 62.19it/s]\n"
     ]
    },
    {
     "name": "stdout",
     "output_type": "stream",
     "text": [
      "Time 2580 over 2750\n"
     ]
    },
    {
     "name": "stderr",
     "output_type": "stream",
     "text": [
      "100%|██████████| 1230/1230 [00:19<00:00, 62.25it/s]\n"
     ]
    },
    {
     "name": "stdout",
     "output_type": "stream",
     "text": [
      "Time 2590 over 2750\n"
     ]
    },
    {
     "name": "stderr",
     "output_type": "stream",
     "text": [
      "100%|██████████| 1240/1240 [00:19<00:00, 62.13it/s]\n"
     ]
    },
    {
     "name": "stdout",
     "output_type": "stream",
     "text": [
      "Time 2600 over 2750\n"
     ]
    },
    {
     "name": "stderr",
     "output_type": "stream",
     "text": [
      "100%|██████████| 1250/1250 [00:22<00:00, 55.86it/s]\n"
     ]
    },
    {
     "name": "stdout",
     "output_type": "stream",
     "text": [
      "Time 2610 over 2750\n"
     ]
    },
    {
     "name": "stderr",
     "output_type": "stream",
     "text": [
      "100%|██████████| 1260/1260 [00:20<00:00, 62.11it/s]\n"
     ]
    },
    {
     "name": "stdout",
     "output_type": "stream",
     "text": [
      "Time 2620 over 2750\n"
     ]
    },
    {
     "name": "stderr",
     "output_type": "stream",
     "text": [
      "100%|██████████| 1270/1270 [00:20<00:00, 62.16it/s]\n"
     ]
    },
    {
     "name": "stdout",
     "output_type": "stream",
     "text": [
      "Time 2630 over 2750\n"
     ]
    },
    {
     "name": "stderr",
     "output_type": "stream",
     "text": [
      "100%|██████████| 1280/1280 [00:20<00:00, 61.36it/s]\n"
     ]
    },
    {
     "name": "stdout",
     "output_type": "stream",
     "text": [
      "Time 2640 over 2750\n"
     ]
    },
    {
     "name": "stderr",
     "output_type": "stream",
     "text": [
      "100%|██████████| 1290/1290 [00:21<00:00, 60.36it/s]\n"
     ]
    },
    {
     "name": "stdout",
     "output_type": "stream",
     "text": [
      "Time 2650 over 2750\n"
     ]
    },
    {
     "name": "stderr",
     "output_type": "stream",
     "text": [
      "100%|██████████| 1300/1300 [00:21<00:00, 60.74it/s]\n"
     ]
    },
    {
     "name": "stdout",
     "output_type": "stream",
     "text": [
      "Time 2660 over 2750\n"
     ]
    },
    {
     "name": "stderr",
     "output_type": "stream",
     "text": [
      "100%|██████████| 1310/1310 [00:21<00:00, 61.81it/s]\n"
     ]
    },
    {
     "name": "stdout",
     "output_type": "stream",
     "text": [
      "Time 2670 over 2750\n"
     ]
    },
    {
     "name": "stderr",
     "output_type": "stream",
     "text": [
      "100%|██████████| 1320/1320 [00:21<00:00, 61.50it/s]\n"
     ]
    },
    {
     "name": "stdout",
     "output_type": "stream",
     "text": [
      "Time 2680 over 2750\n"
     ]
    },
    {
     "name": "stderr",
     "output_type": "stream",
     "text": [
      "100%|██████████| 1330/1330 [00:21<00:00, 61.59it/s]\n"
     ]
    },
    {
     "name": "stdout",
     "output_type": "stream",
     "text": [
      "Time 2690 over 2750\n"
     ]
    },
    {
     "name": "stderr",
     "output_type": "stream",
     "text": [
      "100%|██████████| 1340/1340 [00:22<00:00, 60.84it/s]\n"
     ]
    },
    {
     "name": "stdout",
     "output_type": "stream",
     "text": [
      "Time 2700 over 2750\n"
     ]
    },
    {
     "name": "stderr",
     "output_type": "stream",
     "text": [
      "100%|██████████| 1350/1350 [00:22<00:00, 60.60it/s]\n"
     ]
    },
    {
     "name": "stdout",
     "output_type": "stream",
     "text": [
      "Time 2710 over 2750\n"
     ]
    },
    {
     "name": "stderr",
     "output_type": "stream",
     "text": [
      "100%|██████████| 1360/1360 [00:22<00:00, 60.97it/s]\n"
     ]
    },
    {
     "name": "stdout",
     "output_type": "stream",
     "text": [
      "Time 2720 over 2750\n"
     ]
    },
    {
     "name": "stderr",
     "output_type": "stream",
     "text": [
      "100%|██████████| 1370/1370 [00:22<00:00, 60.16it/s]\n"
     ]
    },
    {
     "name": "stdout",
     "output_type": "stream",
     "text": [
      "Time 2730 over 2750\n"
     ]
    },
    {
     "name": "stderr",
     "output_type": "stream",
     "text": [
      "100%|██████████| 1380/1380 [00:23<00:00, 59.65it/s]\n"
     ]
    },
    {
     "name": "stdout",
     "output_type": "stream",
     "text": [
      "Time 2740 over 2750\n"
     ]
    },
    {
     "name": "stderr",
     "output_type": "stream",
     "text": [
      "100%|██████████| 1390/1390 [00:23<00:00, 60.13it/s]\n"
     ]
    }
   ],
   "source": [
    "last_change_detected = []\n",
    "change_points = []\n",
    "list_t = []\n",
    "for t in range(1360, 2750, 10):\n",
    "  print('Time {} over 2750'.format(t))\n",
    "  partial_signal = well_log[1350:t].copy()\n",
    "\n",
    "  # Parameter definition\n",
    "  d_signal = np.array([partial_signal[i+1]-partial_signal[i] for i in range(len(partial_signal)-1)])\n",
    "  sigma_hat = np.median(np.abs(d_signal - np.median(d_signal)))\n",
    "  pen_bic = 70 * sigma_hat**2 \n",
    "  K = 2 * sigma_hat \n",
    "\n",
    "  #R-FPOP\n",
    "  cp,_ = rfpop(partial_signal, pen_bic, K)\n",
    "  cp = np.array(cp)[:,1]\n",
    "  cp[np.where(cp == None)] = 0\n",
    "  predicted_bkps = np.unique(cp)[1:]\n",
    "  predicted_bkps = np.hstack((predicted_bkps, partial_signal.shape[0]))\n",
    "  change_points.append(cp)\n",
    "  list_t.append(t)\n",
    "  if len(cp) >1:\n",
    "    last_change_detected.append(cp[-1])\n",
    "  else: \n",
    "    last_change_detected.append(0)"
   ]
  },
  {
   "cell_type": "code",
   "execution_count": 90,
   "metadata": {
    "id": "wKKgkWqVi75T"
   },
   "outputs": [],
   "source": [
    "start_t = 1350\n",
    "end_t = list_t[-1]\n",
    "bkps = [start_t + np.hstack((np.unique(cp)[1:], well_log[start_t:start_t+10*(i+1)].shape[0])) for i, cp in enumerate(change_points)]\n",
    "end_bkps = bkps[-1]\n",
    "list_end_bkps = np.array([bkp[-2] if len(bkp)>1 else start_t for bkp in bkps ])"
   ]
  },
  {
   "cell_type": "code",
   "execution_count": 91,
   "metadata": {
    "colab": {
     "base_uri": "https://localhost:8080/",
     "height": 153
    },
    "id": "PwXJPLxQi9VO",
    "outputId": "0aacadc5-c7ac-425d-fea0-1e3210e10506"
   },
   "outputs": [
    {
     "data": {
      "image/png": "[encoded data removed]",
      "text/plain": [
       "<Figure size 720x144 with 1 Axes>"
      ]
     },
     "metadata": {
      "needs_background": "light"
     },
     "output_type": "display_data"
    }
   ],
   "source": [
    "fig, ax_arr = rpt.display(well_log[start_t:end_t], predicted_bkps, predicted_bkps)"
   ]
  },
  {
   "cell_type": "code",
   "execution_count": 92,
   "metadata": {
    "colab": {
     "base_uri": "https://localhost:8080/",
     "height": 336
    },
    "id": "0YOaZTM4jA3z",
    "outputId": "af6cb70e-e4d4-49bc-88a6-ad7858afcabf"
   },
   "outputs": [
    {
     "data": {
      "image/png": "[encoded data removed]",
      "text/plain": [
       "<Figure size 648x360 with 1 Axes>"
      ]
     },
     "metadata": {
      "needs_background": "light"
     },
     "output_type": "display_data"
    }
   ],
   "source": [
    "plt.figure(figsize=(9,5))\n",
    "plt.plot(list_t, list_end_bkps, color='k')\n",
    "plt.plot(np.arange(start_t, end_t), np.arange(start_t, end_t), linewidth=0.5, color='k', linestyle = '--')\n",
    "plt.xlabel('Time')\n",
    "plt.ylabel('Last changepoint detected')\n",
    "plt.show()"
   ]
  },
  {
   "cell_type": "code",
   "execution_count": 93,
   "metadata": {
    "colab": {
     "base_uri": "https://localhost:8080/"
    },
    "id": "lEFEcVpYjCfk",
    "outputId": "a3e3f39a-ee4f-4476-a915-53a7db4c6917"
   },
   "outputs": [
    {
     "data": {
      "text/plain": [
       "array([-25, -24, -25, -25, -22, -23, -20, -20])"
      ]
     },
     "execution_count": 93,
     "metadata": {},
     "output_type": "execute_result"
    }
   ],
   "source": [
    "new_change_point_t = np.argwhere((np.abs(list_end_bkps[1:] - list_end_bkps[:-1]) >10)).flatten()\n",
    "list_end_bkps[new_change_point_t+1] - np.array(list_t)[new_change_point_t]"
   ]
  }
 ],
 "metadata": {
  "colab": {
   "collapsed_sections": [],
   "name": "R-FPOP",
   "provenance": []
  },
  "kernelspec": {
   "display_name": "Python 3 (ipykernel)",
   "language": "python",
   "name": "python3"
  },
  "language_info": {
   "codemirror_mode": {
    "name": "ipython",
    "version": 3
   },
   "file_extension": ".py",
   "mimetype": "text/x-python",
   "name": "python",
   "nbconvert_exporter": "python",
   "pygments_lexer": "ipython3",
   "version": "3.7.9"
  }
 },
 "nbformat": 4,
 "nbformat_minor": 1
}
